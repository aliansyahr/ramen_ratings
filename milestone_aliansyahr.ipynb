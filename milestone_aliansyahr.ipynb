{
 "cells": [
  {
   "cell_type": "markdown",
   "metadata": {},
   "source": [
    "# Milestone 1"
   ]
  },
  {
   "cell_type": "markdown",
   "metadata": {},
   "source": [
    "## Introduction"
   ]
  },
  {
   "cell_type": "markdown",
   "metadata": {},
   "source": [
    "===========================================================================\n",
    "\n",
    "Nama: Muhammad Aliansyah Ramadhan\n",
    "\n",
    "Kelas: RMT - 035\n",
    "\n",
    "Objective: Mendapatkan dataset dari website, dan menganalisis sesuai dengan SMART Framework dan Problem background yang telah di definisikan, membersihkan data dan menganalisisnya dan membuat kesimpulan dari data yang telah di analisis. \n",
    "\n",
    "[Dashboard](https://public.tableau.com/shared/FKGKHJDCS?:display_count=n&:origin=viz_share_link)\n",
    "\n",
    "\n",
    "==========================================================================="
   ]
  },
  {
   "cell_type": "markdown",
   "metadata": {},
   "source": [
    "## Business Understanding"
   ]
  },
  {
   "cell_type": "markdown",
   "metadata": {},
   "source": [
    "### Latar Belakang"
   ]
  },
  {
   "cell_type": "markdown",
   "metadata": {},
   "source": [
    "Saya memiliki sebuah perusahaan Mie instant di indonesia yang akan membuat suatu produk yang bertemakan ramen, saya ingin mengetahui apakah apa produk mie instant yang paling di sukai oleh orang orang banyak dan saya pun akan membuat packing mie instant yang beragam mulai contoh pack, bowl, ataupun cup. "
   ]
  },
  {
   "cell_type": "markdown",
   "metadata": {},
   "source": [
    "### SMART Framework"
   ]
  },
  {
   "cell_type": "markdown",
   "metadata": {},
   "source": [
    "1. Specific -> Membuat suatu produk mie isntant baru dalam bentuk CUP, Bowl, dan Pack yang dapat di terima oleh masyarakat banyak.\n",
    "\n",
    "2. Measurable -> Mendapatkan rating lebih dari 3.5 untuk produk mie baru yang akan di buat\n",
    "\n",
    "3. Achievable -> Berdasarkan proses dan perencanaan yang baik, meraih rating lebih dari 3.5 sangat mungkin di raih.\n",
    "\n",
    "4. Relevant -> Dengan mencari Net Promotor Score (dalam kasus ini rating 1-5) di atas 3.5, maka produk baru yang akan dapat bersaing di pasaran.\n",
    "\n",
    "5. Time Bound -> Untuk meraih tujuan, di butuhkan setidaknya 6 bulan dengan timeline perencanaan yang baik untuk membuat produk baru yang disukai masyarakat\n",
    "\n"
   ]
  },
  {
   "cell_type": "markdown",
   "metadata": {},
   "source": [
    "### Problem Statement"
   ]
  },
  {
   "cell_type": "markdown",
   "metadata": {},
   "source": [
    "Membuat suatu produk mie baru dalam bentuk pack, cup dan bowl yang bisa mendapatkan rating lebih dari 3.5 untuk masing masing segmen Mie, dengan mencari NPS di atas 3.5 berdasarkan data yang ada, dan dibutuhkan setidaknya 6 bulan dengan timeline yang baik untuk membuat suatu produk baru untuk di jual dan mendapat kesan yang baik dari masyarakat"
   ]
  },
  {
   "cell_type": "markdown",
   "metadata": {},
   "source": [
    "### Problem Background (5W1H)"
   ]
  },
  {
   "cell_type": "markdown",
   "metadata": {},
   "source": [
    "5W1H\n",
    "\n",
    "What: \n",
    "\n",
    "Perusahaan ingin membuat suatu produk mie instant baru yang dapat di terima oleh masyarakat, oleh karena itu dibutuhkan suatu proses perencanaan yang baik, maka untuk menjawab pertanyaan itu kita harus mengetahui terlebih dahulu, apa yang masyarakat sukai, kita kaan menggunakan dataset ramen-rating untuk basis data analisis kali ini.\n",
    "\n",
    "why:\n",
    "\n",
    "dengan tingginya persaingan di industri ini, inovasi sangat penting untuk menarik perhatian konsumen, berdasarkan data, rating sangatlah bervariasi dari 0-5. Target kita adalah 3.5 untuk produk baru yang akan kita buat maka daripada itu sangat penting untuk memastikan produk baru dapat bersaing di papan atas.\n",
    "\n",
    "who:\n",
    "\n",
    "target pasar dari produk baru ini adalah orang orang yang mencintai mie instant yang mencari variasi rasa dan bentuk yang lebih menarik dan praktis\n",
    "\n",
    "where:\n",
    "\n",
    "produk akan di pasarkan di berbagai toko, mulai dari minimarket, supermarket, warmindo, warung, dan platform online. Fokus dari produk baru ini adalah ekspansi produk ke mancanegara, terlebih negara-negara yang memiliki minat tinggi terhadap mie instant.\n",
    "\n",
    "when:\n",
    "\n",
    "pengembangan produk mie baru ini direncanakan dalam 6 bulan. waktu ini termasuk proses penelitian pasar, pengembangan produk, uji produk, hingga strategi pemasaran.\n",
    "\n",
    "how:\n",
    "\n",
    "untuk mencapai target rating 3.5 maka perusahaan akan melakukan analisis menyelutruh terhadap data produk yang ada, identifikasi tren, dan preferensi konsumen. Evaluasi akan dilakukan melalui survey konsumen dan analisis feedback untuk memastikan produk memenuhi standar dan preferensi konsumen."
   ]
  },
  {
   "cell_type": "markdown",
   "metadata": {},
   "source": [
    "## Data Loading"
   ]
  },
  {
   "cell_type": "markdown",
   "metadata": {},
   "source": [
    "Import bahan yang dibutuhkan untuk proses analisis"
   ]
  },
  {
   "cell_type": "code",
   "execution_count": 1,
   "metadata": {},
   "outputs": [],
   "source": [
    "import pandas as pd"
   ]
  },
  {
   "cell_type": "markdown",
   "metadata": {},
   "source": [
    "baca data .csv yang saya dapatkan dari website [kaggle](https://www.kaggle.com/datasets/residentmario/ramen-ratings) mengenai ramen-ratings "
   ]
  },
  {
   "cell_type": "code",
   "execution_count": 2,
   "metadata": {},
   "outputs": [],
   "source": [
    "df = pd.read_csv(r'C:\\Users\\Alew\\OneDrive - upi.edu\\Hacktiv8\\phase0\\week_4\\p0-ftds035-rmt-m1-aliansyahr\\ramen-ratings.csv')"
   ]
  },
  {
   "cell_type": "markdown",
   "metadata": {},
   "source": [
    "### Data Exploration"
   ]
  },
  {
   "cell_type": "code",
   "execution_count": 3,
   "metadata": {},
   "outputs": [
    {
     "data": {
      "text/html": [
       "<div>\n",
       "<style scoped>\n",
       "    .dataframe tbody tr th:only-of-type {\n",
       "        vertical-align: middle;\n",
       "    }\n",
       "\n",
       "    .dataframe tbody tr th {\n",
       "        vertical-align: top;\n",
       "    }\n",
       "\n",
       "    .dataframe thead th {\n",
       "        text-align: right;\n",
       "    }\n",
       "</style>\n",
       "<table border=\"1\" class=\"dataframe\">\n",
       "  <thead>\n",
       "    <tr style=\"text-align: right;\">\n",
       "      <th></th>\n",
       "      <th>Review #</th>\n",
       "      <th>Brand</th>\n",
       "      <th>Variety</th>\n",
       "      <th>Style</th>\n",
       "      <th>Country</th>\n",
       "      <th>Stars</th>\n",
       "      <th>Top Ten</th>\n",
       "    </tr>\n",
       "  </thead>\n",
       "  <tbody>\n",
       "    <tr>\n",
       "      <th>0</th>\n",
       "      <td>2580</td>\n",
       "      <td>New Touch</td>\n",
       "      <td>T's Restaurant Tantanmen</td>\n",
       "      <td>Cup</td>\n",
       "      <td>Japan</td>\n",
       "      <td>3.75</td>\n",
       "      <td>NaN</td>\n",
       "    </tr>\n",
       "    <tr>\n",
       "      <th>1</th>\n",
       "      <td>2579</td>\n",
       "      <td>Just Way</td>\n",
       "      <td>Noodles Spicy Hot Sesame Spicy Hot Sesame Guan...</td>\n",
       "      <td>Pack</td>\n",
       "      <td>Taiwan</td>\n",
       "      <td>1</td>\n",
       "      <td>NaN</td>\n",
       "    </tr>\n",
       "    <tr>\n",
       "      <th>2</th>\n",
       "      <td>2578</td>\n",
       "      <td>Nissin</td>\n",
       "      <td>Cup Noodles Chicken Vegetable</td>\n",
       "      <td>Cup</td>\n",
       "      <td>USA</td>\n",
       "      <td>2.25</td>\n",
       "      <td>NaN</td>\n",
       "    </tr>\n",
       "    <tr>\n",
       "      <th>3</th>\n",
       "      <td>2577</td>\n",
       "      <td>Wei Lih</td>\n",
       "      <td>GGE Ramen Snack Tomato Flavor</td>\n",
       "      <td>Pack</td>\n",
       "      <td>Taiwan</td>\n",
       "      <td>2.75</td>\n",
       "      <td>NaN</td>\n",
       "    </tr>\n",
       "    <tr>\n",
       "      <th>4</th>\n",
       "      <td>2576</td>\n",
       "      <td>Ching's Secret</td>\n",
       "      <td>Singapore Curry</td>\n",
       "      <td>Pack</td>\n",
       "      <td>India</td>\n",
       "      <td>3.75</td>\n",
       "      <td>NaN</td>\n",
       "    </tr>\n",
       "    <tr>\n",
       "      <th>5</th>\n",
       "      <td>2575</td>\n",
       "      <td>Samyang Foods</td>\n",
       "      <td>Kimchi song Song Ramen</td>\n",
       "      <td>Pack</td>\n",
       "      <td>South Korea</td>\n",
       "      <td>4.75</td>\n",
       "      <td>NaN</td>\n",
       "    </tr>\n",
       "    <tr>\n",
       "      <th>6</th>\n",
       "      <td>2574</td>\n",
       "      <td>Acecook</td>\n",
       "      <td>Spice Deli Tantan Men With Cilantro</td>\n",
       "      <td>Cup</td>\n",
       "      <td>Japan</td>\n",
       "      <td>4</td>\n",
       "      <td>NaN</td>\n",
       "    </tr>\n",
       "    <tr>\n",
       "      <th>7</th>\n",
       "      <td>2573</td>\n",
       "      <td>Ikeda Shoku</td>\n",
       "      <td>Nabeyaki Kitsune Udon</td>\n",
       "      <td>Tray</td>\n",
       "      <td>Japan</td>\n",
       "      <td>3.75</td>\n",
       "      <td>NaN</td>\n",
       "    </tr>\n",
       "    <tr>\n",
       "      <th>8</th>\n",
       "      <td>2572</td>\n",
       "      <td>Ripe'n'Dry</td>\n",
       "      <td>Hokkaido Soy Sauce Ramen</td>\n",
       "      <td>Pack</td>\n",
       "      <td>Japan</td>\n",
       "      <td>0.25</td>\n",
       "      <td>NaN</td>\n",
       "    </tr>\n",
       "    <tr>\n",
       "      <th>9</th>\n",
       "      <td>2571</td>\n",
       "      <td>KOKA</td>\n",
       "      <td>The Original Spicy Stir-Fried Noodles</td>\n",
       "      <td>Pack</td>\n",
       "      <td>Singapore</td>\n",
       "      <td>2.5</td>\n",
       "      <td>NaN</td>\n",
       "    </tr>\n",
       "    <tr>\n",
       "      <th>10</th>\n",
       "      <td>2570</td>\n",
       "      <td>Tao Kae Noi</td>\n",
       "      <td>Creamy tom Yum Kung Flavour</td>\n",
       "      <td>Pack</td>\n",
       "      <td>Thailand</td>\n",
       "      <td>5</td>\n",
       "      <td>NaN</td>\n",
       "    </tr>\n",
       "    <tr>\n",
       "      <th>11</th>\n",
       "      <td>2569</td>\n",
       "      <td>Yamachan</td>\n",
       "      <td>Yokohama Tonkotsu Shoyu</td>\n",
       "      <td>Pack</td>\n",
       "      <td>USA</td>\n",
       "      <td>5</td>\n",
       "      <td>NaN</td>\n",
       "    </tr>\n",
       "    <tr>\n",
       "      <th>12</th>\n",
       "      <td>2568</td>\n",
       "      <td>Nongshim</td>\n",
       "      <td>Mr. Bibim Stir-Fried Kimchi Flavor</td>\n",
       "      <td>Pack</td>\n",
       "      <td>South Korea</td>\n",
       "      <td>4.25</td>\n",
       "      <td>NaN</td>\n",
       "    </tr>\n",
       "    <tr>\n",
       "      <th>13</th>\n",
       "      <td>2567</td>\n",
       "      <td>Nissin</td>\n",
       "      <td>Deka Buto Kimchi Pork Flavor</td>\n",
       "      <td>Bowl</td>\n",
       "      <td>Japan</td>\n",
       "      <td>4.5</td>\n",
       "      <td>NaN</td>\n",
       "    </tr>\n",
       "    <tr>\n",
       "      <th>14</th>\n",
       "      <td>2566</td>\n",
       "      <td>Nissin</td>\n",
       "      <td>Demae Ramen Bar Noodle Aka Tonkotsu Flavour In...</td>\n",
       "      <td>Pack</td>\n",
       "      <td>Hong Kong</td>\n",
       "      <td>5</td>\n",
       "      <td>NaN</td>\n",
       "    </tr>\n",
       "    <tr>\n",
       "      <th>15</th>\n",
       "      <td>2565</td>\n",
       "      <td>KOKA</td>\n",
       "      <td>Mushroom Flavour Instant Noodles</td>\n",
       "      <td>Cup</td>\n",
       "      <td>Singapore</td>\n",
       "      <td>3.5</td>\n",
       "      <td>NaN</td>\n",
       "    </tr>\n",
       "    <tr>\n",
       "      <th>16</th>\n",
       "      <td>2564</td>\n",
       "      <td>TRDP</td>\n",
       "      <td>Mario Masala Noodles</td>\n",
       "      <td>Pack</td>\n",
       "      <td>India</td>\n",
       "      <td>3.75</td>\n",
       "      <td>NaN</td>\n",
       "    </tr>\n",
       "    <tr>\n",
       "      <th>17</th>\n",
       "      <td>2563</td>\n",
       "      <td>Yamachan</td>\n",
       "      <td>Tokyo Shoyu Ramen</td>\n",
       "      <td>Pack</td>\n",
       "      <td>USA</td>\n",
       "      <td>5</td>\n",
       "      <td>NaN</td>\n",
       "    </tr>\n",
       "    <tr>\n",
       "      <th>18</th>\n",
       "      <td>2562</td>\n",
       "      <td>Binh Tay</td>\n",
       "      <td>Mi Hai Cua</td>\n",
       "      <td>Pack</td>\n",
       "      <td>Vietnam</td>\n",
       "      <td>4</td>\n",
       "      <td>NaN</td>\n",
       "    </tr>\n",
       "    <tr>\n",
       "      <th>19</th>\n",
       "      <td>2561</td>\n",
       "      <td>Paldo</td>\n",
       "      <td>Premium Gomtang</td>\n",
       "      <td>Pack</td>\n",
       "      <td>South Korea</td>\n",
       "      <td>4</td>\n",
       "      <td>NaN</td>\n",
       "    </tr>\n",
       "    <tr>\n",
       "      <th>20</th>\n",
       "      <td>2560</td>\n",
       "      <td>Nissin</td>\n",
       "      <td>Cup Noodles Laksa Flavour</td>\n",
       "      <td>Cup</td>\n",
       "      <td>Hong Kong</td>\n",
       "      <td>4.25</td>\n",
       "      <td>NaN</td>\n",
       "    </tr>\n",
       "    <tr>\n",
       "      <th>21</th>\n",
       "      <td>2559</td>\n",
       "      <td>Jackpot Teriyaki</td>\n",
       "      <td>Beef Ramen</td>\n",
       "      <td>Pack</td>\n",
       "      <td>USA</td>\n",
       "      <td>5</td>\n",
       "      <td>NaN</td>\n",
       "    </tr>\n",
       "    <tr>\n",
       "      <th>22</th>\n",
       "      <td>2558</td>\n",
       "      <td>KOKA</td>\n",
       "      <td>Creamy Soup With Crushed Noodles Hot &amp; Sour Fi...</td>\n",
       "      <td>Cup</td>\n",
       "      <td>Singapore</td>\n",
       "      <td>5</td>\n",
       "      <td>NaN</td>\n",
       "    </tr>\n",
       "    <tr>\n",
       "      <th>23</th>\n",
       "      <td>2557</td>\n",
       "      <td>Yamachan</td>\n",
       "      <td>Sapporo Miso Ramen</td>\n",
       "      <td>Pack</td>\n",
       "      <td>USA</td>\n",
       "      <td>4.75</td>\n",
       "      <td>NaN</td>\n",
       "    </tr>\n",
       "    <tr>\n",
       "      <th>24</th>\n",
       "      <td>2556</td>\n",
       "      <td>Ching's Secret</td>\n",
       "      <td>Hot Garlic Instant Noodles</td>\n",
       "      <td>Pack</td>\n",
       "      <td>India</td>\n",
       "      <td>4.25</td>\n",
       "      <td>NaN</td>\n",
       "    </tr>\n",
       "    <tr>\n",
       "      <th>25</th>\n",
       "      <td>2555</td>\n",
       "      <td>Samyang Foods</td>\n",
       "      <td>Song Song Kimchi Big Bowl</td>\n",
       "      <td>Bowl</td>\n",
       "      <td>South Korea</td>\n",
       "      <td>4.25</td>\n",
       "      <td>NaN</td>\n",
       "    </tr>\n",
       "    <tr>\n",
       "      <th>26</th>\n",
       "      <td>2554</td>\n",
       "      <td>Yum-Mie</td>\n",
       "      <td>Instant Noodles Beef In Light Soup Flavour</td>\n",
       "      <td>Pack</td>\n",
       "      <td>Ghana</td>\n",
       "      <td>3.5</td>\n",
       "      <td>NaN</td>\n",
       "    </tr>\n",
       "    <tr>\n",
       "      <th>27</th>\n",
       "      <td>2553</td>\n",
       "      <td>Nissin</td>\n",
       "      <td>Hakata Ramen Noodle White Tonkotsu</td>\n",
       "      <td>Bowl</td>\n",
       "      <td>Japan</td>\n",
       "      <td>4.75</td>\n",
       "      <td>NaN</td>\n",
       "    </tr>\n",
       "    <tr>\n",
       "      <th>28</th>\n",
       "      <td>2552</td>\n",
       "      <td>MyKuali</td>\n",
       "      <td>Penang White Curry Rice Vermicelli Soup</td>\n",
       "      <td>Bowl</td>\n",
       "      <td>Malaysia</td>\n",
       "      <td>5</td>\n",
       "      <td>NaN</td>\n",
       "    </tr>\n",
       "    <tr>\n",
       "      <th>29</th>\n",
       "      <td>2551</td>\n",
       "      <td>KOKA</td>\n",
       "      <td>Signature Tom Yum Flavor Instant Noodles</td>\n",
       "      <td>Pack</td>\n",
       "      <td>Singapore</td>\n",
       "      <td>4</td>\n",
       "      <td>NaN</td>\n",
       "    </tr>\n",
       "  </tbody>\n",
       "</table>\n",
       "</div>"
      ],
      "text/plain": [
       "    Review #             Brand  \\\n",
       "0       2580         New Touch   \n",
       "1       2579          Just Way   \n",
       "2       2578            Nissin   \n",
       "3       2577           Wei Lih   \n",
       "4       2576    Ching's Secret   \n",
       "5       2575     Samyang Foods   \n",
       "6       2574           Acecook   \n",
       "7       2573       Ikeda Shoku   \n",
       "8       2572        Ripe'n'Dry   \n",
       "9       2571              KOKA   \n",
       "10      2570       Tao Kae Noi   \n",
       "11      2569          Yamachan   \n",
       "12      2568          Nongshim   \n",
       "13      2567            Nissin   \n",
       "14      2566            Nissin   \n",
       "15      2565              KOKA   \n",
       "16      2564              TRDP   \n",
       "17      2563          Yamachan   \n",
       "18      2562          Binh Tay   \n",
       "19      2561             Paldo   \n",
       "20      2560            Nissin   \n",
       "21      2559  Jackpot Teriyaki   \n",
       "22      2558              KOKA   \n",
       "23      2557          Yamachan   \n",
       "24      2556    Ching's Secret   \n",
       "25      2555     Samyang Foods   \n",
       "26      2554           Yum-Mie   \n",
       "27      2553            Nissin   \n",
       "28      2552           MyKuali   \n",
       "29      2551              KOKA   \n",
       "\n",
       "                                              Variety Style      Country  \\\n",
       "0                           T's Restaurant Tantanmen    Cup        Japan   \n",
       "1   Noodles Spicy Hot Sesame Spicy Hot Sesame Guan...  Pack       Taiwan   \n",
       "2                       Cup Noodles Chicken Vegetable   Cup          USA   \n",
       "3                       GGE Ramen Snack Tomato Flavor  Pack       Taiwan   \n",
       "4                                     Singapore Curry  Pack        India   \n",
       "5                              Kimchi song Song Ramen  Pack  South Korea   \n",
       "6                 Spice Deli Tantan Men With Cilantro   Cup        Japan   \n",
       "7                               Nabeyaki Kitsune Udon  Tray        Japan   \n",
       "8                            Hokkaido Soy Sauce Ramen  Pack        Japan   \n",
       "9               The Original Spicy Stir-Fried Noodles  Pack    Singapore   \n",
       "10                        Creamy tom Yum Kung Flavour  Pack     Thailand   \n",
       "11                            Yokohama Tonkotsu Shoyu  Pack          USA   \n",
       "12                 Mr. Bibim Stir-Fried Kimchi Flavor  Pack  South Korea   \n",
       "13                       Deka Buto Kimchi Pork Flavor  Bowl        Japan   \n",
       "14  Demae Ramen Bar Noodle Aka Tonkotsu Flavour In...  Pack    Hong Kong   \n",
       "15                   Mushroom Flavour Instant Noodles   Cup    Singapore   \n",
       "16                               Mario Masala Noodles  Pack        India   \n",
       "17                                  Tokyo Shoyu Ramen  Pack          USA   \n",
       "18                                         Mi Hai Cua  Pack      Vietnam   \n",
       "19                                    Premium Gomtang  Pack  South Korea   \n",
       "20                          Cup Noodles Laksa Flavour   Cup    Hong Kong   \n",
       "21                                         Beef Ramen  Pack          USA   \n",
       "22  Creamy Soup With Crushed Noodles Hot & Sour Fi...   Cup    Singapore   \n",
       "23                                 Sapporo Miso Ramen  Pack          USA   \n",
       "24                         Hot Garlic Instant Noodles  Pack        India   \n",
       "25                          Song Song Kimchi Big Bowl  Bowl  South Korea   \n",
       "26         Instant Noodles Beef In Light Soup Flavour  Pack        Ghana   \n",
       "27                 Hakata Ramen Noodle White Tonkotsu  Bowl        Japan   \n",
       "28            Penang White Curry Rice Vermicelli Soup  Bowl     Malaysia   \n",
       "29           Signature Tom Yum Flavor Instant Noodles  Pack    Singapore   \n",
       "\n",
       "   Stars Top Ten  \n",
       "0   3.75     NaN  \n",
       "1      1     NaN  \n",
       "2   2.25     NaN  \n",
       "3   2.75     NaN  \n",
       "4   3.75     NaN  \n",
       "5   4.75     NaN  \n",
       "6      4     NaN  \n",
       "7   3.75     NaN  \n",
       "8   0.25     NaN  \n",
       "9    2.5     NaN  \n",
       "10     5     NaN  \n",
       "11     5     NaN  \n",
       "12  4.25     NaN  \n",
       "13   4.5     NaN  \n",
       "14     5     NaN  \n",
       "15   3.5     NaN  \n",
       "16  3.75     NaN  \n",
       "17     5     NaN  \n",
       "18     4     NaN  \n",
       "19     4     NaN  \n",
       "20  4.25     NaN  \n",
       "21     5     NaN  \n",
       "22     5     NaN  \n",
       "23  4.75     NaN  \n",
       "24  4.25     NaN  \n",
       "25  4.25     NaN  \n",
       "26   3.5     NaN  \n",
       "27  4.75     NaN  \n",
       "28     5     NaN  \n",
       "29     4     NaN  "
      ]
     },
     "execution_count": 3,
     "metadata": {},
     "output_type": "execute_result"
    }
   ],
   "source": [
    "df.head(30)"
   ]
  },
  {
   "cell_type": "markdown",
   "metadata": {},
   "source": [
    "saya akan mencari data duplikat"
   ]
  },
  {
   "cell_type": "code",
   "execution_count": 4,
   "metadata": {},
   "outputs": [
    {
     "data": {
      "text/plain": [
       "<bound method Series.count of 0       False\n",
       "1       False\n",
       "2       False\n",
       "3       False\n",
       "4       False\n",
       "        ...  \n",
       "2575    False\n",
       "2576    False\n",
       "2577    False\n",
       "2578    False\n",
       "2579    False\n",
       "Length: 2580, dtype: bool>"
      ]
     },
     "execution_count": 4,
     "metadata": {},
     "output_type": "execute_result"
    }
   ],
   "source": [
    "df.duplicated().count"
   ]
  },
  {
   "cell_type": "markdown",
   "metadata": {},
   "source": [
    "Tidak ada duplikat dalam data ini .. "
   ]
  },
  {
   "cell_type": "markdown",
   "metadata": {},
   "source": [
    "=============================================================="
   ]
  },
  {
   "cell_type": "markdown",
   "metadata": {},
   "source": [
    "Mari kita lihat apa tipe data di tiap kolom"
   ]
  },
  {
   "cell_type": "code",
   "execution_count": 5,
   "metadata": {},
   "outputs": [
    {
     "data": {
      "text/plain": [
       "Review #     int64\n",
       "Brand       object\n",
       "Variety     object\n",
       "Style       object\n",
       "Country     object\n",
       "Stars       object\n",
       "Top Ten     object\n",
       "dtype: object"
      ]
     },
     "execution_count": 5,
     "metadata": {},
     "output_type": "execute_result"
    }
   ],
   "source": [
    "df.dtypes"
   ]
  },
  {
   "cell_type": "markdown",
   "metadata": {},
   "source": [
    "ada keanehan karena stars harusnya merupakan tipe data numerical (float)"
   ]
  },
  {
   "cell_type": "code",
   "execution_count": 6,
   "metadata": {},
   "outputs": [
    {
     "data": {
      "text/plain": [
       "array(['3.75', '1', '2.25', '2.75', '4.75', '4', '0.25', '2.5', '5',\n",
       "       '4.25', '4.5', '3.5', 'Unrated', '1.5', '3.25', '2', '0', '3',\n",
       "       '0.5', '4.00', '5.0', '3.50', '3.8', '4.3', '2.3', '5.00', '3.3',\n",
       "       '4.0', '3.00', '1.75', '3.0', '4.50', '0.75', '1.25', '1.1', '2.1',\n",
       "       '0.9', '3.1', '4.125', '3.125', '2.125', '2.9', '0.1', '2.8',\n",
       "       '3.7', '3.4', '3.6', '2.85', '3.2', '3.65', '1.8'], dtype=object)"
      ]
     },
     "execution_count": 6,
     "metadata": {},
     "output_type": "execute_result"
    }
   ],
   "source": [
    "df[\"Stars\"].unique()"
   ]
  },
  {
   "cell_type": "markdown",
   "metadata": {},
   "source": [
    "terdapat suatu data 'unrated' di dalam data 'Stars' kita akan buang nanti."
   ]
  },
  {
   "cell_type": "markdown",
   "metadata": {},
   "source": [
    "=============================================================="
   ]
  },
  {
   "cell_type": "markdown",
   "metadata": {},
   "source": [
    "Mari kita cari 'missing value'"
   ]
  },
  {
   "cell_type": "code",
   "execution_count": 7,
   "metadata": {},
   "outputs": [
    {
     "data": {
      "text/plain": [
       "2541"
      ]
     },
     "execution_count": 7,
     "metadata": {},
     "output_type": "execute_result"
    }
   ],
   "source": [
    "df.isnull().sum().sum()"
   ]
  },
  {
   "cell_type": "markdown",
   "metadata": {},
   "source": [
    "Terdapat 2541 missing value, hal ini dikarenakan Kolom 'Top Ten' karena kita tidak akan menggunakan kolom ini, maka kita akan drop nanti"
   ]
  },
  {
   "cell_type": "markdown",
   "metadata": {},
   "source": [
    "=============================================================="
   ]
  },
  {
   "cell_type": "code",
   "execution_count": 8,
   "metadata": {},
   "outputs": [
    {
     "data": {
      "text/html": [
       "<div>\n",
       "<style scoped>\n",
       "    .dataframe tbody tr th:only-of-type {\n",
       "        vertical-align: middle;\n",
       "    }\n",
       "\n",
       "    .dataframe tbody tr th {\n",
       "        vertical-align: top;\n",
       "    }\n",
       "\n",
       "    .dataframe thead th {\n",
       "        text-align: right;\n",
       "    }\n",
       "</style>\n",
       "<table border=\"1\" class=\"dataframe\">\n",
       "  <thead>\n",
       "    <tr style=\"text-align: right;\">\n",
       "      <th></th>\n",
       "      <th>count</th>\n",
       "      <th>unique</th>\n",
       "      <th>top</th>\n",
       "      <th>freq</th>\n",
       "    </tr>\n",
       "  </thead>\n",
       "  <tbody>\n",
       "    <tr>\n",
       "      <th>Brand</th>\n",
       "      <td>2580</td>\n",
       "      <td>355</td>\n",
       "      <td>Nissin</td>\n",
       "      <td>381</td>\n",
       "    </tr>\n",
       "    <tr>\n",
       "      <th>Variety</th>\n",
       "      <td>2580</td>\n",
       "      <td>2413</td>\n",
       "      <td>Beef</td>\n",
       "      <td>7</td>\n",
       "    </tr>\n",
       "    <tr>\n",
       "      <th>Style</th>\n",
       "      <td>2578</td>\n",
       "      <td>7</td>\n",
       "      <td>Pack</td>\n",
       "      <td>1531</td>\n",
       "    </tr>\n",
       "    <tr>\n",
       "      <th>Country</th>\n",
       "      <td>2580</td>\n",
       "      <td>38</td>\n",
       "      <td>Japan</td>\n",
       "      <td>352</td>\n",
       "    </tr>\n",
       "    <tr>\n",
       "      <th>Stars</th>\n",
       "      <td>2580</td>\n",
       "      <td>51</td>\n",
       "      <td>4</td>\n",
       "      <td>384</td>\n",
       "    </tr>\n",
       "    <tr>\n",
       "      <th>Top Ten</th>\n",
       "      <td>41</td>\n",
       "      <td>38</td>\n",
       "      <td>\\n</td>\n",
       "      <td>4</td>\n",
       "    </tr>\n",
       "  </tbody>\n",
       "</table>\n",
       "</div>"
      ],
      "text/plain": [
       "        count unique     top  freq\n",
       "Brand    2580    355  Nissin   381\n",
       "Variety  2580   2413    Beef     7\n",
       "Style    2578      7    Pack  1531\n",
       "Country  2580     38   Japan   352\n",
       "Stars    2580     51       4   384\n",
       "Top Ten    41     38      \\n     4"
      ]
     },
     "execution_count": 8,
     "metadata": {},
     "output_type": "execute_result"
    }
   ],
   "source": [
    "df.describe(include=\"object\").T"
   ]
  },
  {
   "cell_type": "markdown",
   "metadata": {},
   "source": [
    "Berdasarkan tabel data di atas:\n",
    "- terdapat 355 brand dalam data ini dan Nissin menjadi brand terbanyak yang masuk ke dalam list ini dengan 381 produk. \n",
    "- terdapat banyak sekali varian rasa (2413) dan rasa terbanyak dalam data ini adalah 'Beef'\n",
    "- Ada 7 metode packing, dan terbanyak adalah 'pack' plastik dengan 1531 produk\n",
    "- ada 38 negara yang memproduksi Mie instant dan jepang adalah negara terbanyak mengeluarkan produk Mie instant (ramen)"
   ]
  },
  {
   "cell_type": "markdown",
   "metadata": {},
   "source": [
    "=============================================================="
   ]
  },
  {
   "cell_type": "markdown",
   "metadata": {},
   "source": [
    "Kita akan mencari tipe bungkusan (packing) Mie instant ramen"
   ]
  },
  {
   "cell_type": "code",
   "execution_count": 9,
   "metadata": {},
   "outputs": [
    {
     "data": {
      "text/plain": [
       "array(['Cup', 'Pack', 'Tray', 'Bowl', 'Box', 'Can', 'Bar', nan],\n",
       "      dtype=object)"
      ]
     },
     "execution_count": 9,
     "metadata": {},
     "output_type": "execute_result"
    }
   ],
   "source": [
    "df['Style'].unique()"
   ]
  },
  {
   "cell_type": "markdown",
   "metadata": {},
   "source": [
    "Tipe - tipe packing ramen pada data ini adlaah: \n",
    "- Cup\n",
    "- Pack\n",
    "- Tray\n",
    "- Bowl\n",
    "- Box\n",
    "- Can\n",
    "- Bar"
   ]
  },
  {
   "cell_type": "code",
   "execution_count": 10,
   "metadata": {},
   "outputs": [
    {
     "data": {
      "text/plain": [
       "Brand          \n",
       "Nissin             381\n",
       "Nongshim            98\n",
       "Maruchan            76\n",
       "Mama                71\n",
       "Paldo               66\n",
       "                  ... \n",
       "Liang Cheng Mai      1\n",
       "Lipton               1\n",
       "Samurai Ramen        1\n",
       "Lishan               1\n",
       "1 To 3 Noodles       1\n",
       "Name: count, Length: 355, dtype: int64"
      ]
     },
     "execution_count": 10,
     "metadata": {},
     "output_type": "execute_result"
    }
   ],
   "source": [
    "df[['Brand']].value_counts()"
   ]
  },
  {
   "cell_type": "markdown",
   "metadata": {},
   "source": [
    "Berdasarkan data, ada 355 brand dalam dataset ini dengan Nissin merupakan Brand dengan Variety (produk) terbanyak dengan 381 dan kedua adalah nongshim 98 produk dan maruchan 76 produk"
   ]
  },
  {
   "cell_type": "code",
   "execution_count": 11,
   "metadata": {},
   "outputs": [
    {
     "data": {
      "text/plain": [
       "Style\n",
       "Pack     1531\n",
       "Bowl      481\n",
       "Cup       450\n",
       "Tray      108\n",
       "Box         6\n",
       "Bar         1\n",
       "Can         1\n",
       "Name: count, dtype: int64"
      ]
     },
     "execution_count": 11,
     "metadata": {},
     "output_type": "execute_result"
    }
   ],
   "source": [
    "df[['Style']].value_counts()"
   ]
  },
  {
   "cell_type": "code",
   "execution_count": 36,
   "metadata": {},
   "outputs": [
    {
     "data": {
      "text/plain": [
       "2411"
      ]
     },
     "execution_count": 36,
     "metadata": {},
     "output_type": "execute_result"
    }
   ],
   "source": [
    "df['Variety'].nunique()"
   ]
  },
  {
   "cell_type": "markdown",
   "metadata": {},
   "source": [
    "=============================================================="
   ]
  },
  {
   "cell_type": "markdown",
   "metadata": {},
   "source": [
    "## Data Cleaning"
   ]
  },
  {
   "cell_type": "code",
   "execution_count": 12,
   "metadata": {},
   "outputs": [],
   "source": [
    "# mengganti kolom 'review#' dengan 'review' agar mudah untuk nantinya di panggil\n",
    "df.rename(columns={\"Review #\" : \"Review\"},inplace=True)"
   ]
  },
  {
   "cell_type": "code",
   "execution_count": 13,
   "metadata": {},
   "outputs": [],
   "source": [
    "# saya tidak akan menggunakan column 'Top Ten' saya akan mencari sendiri top ten menggunakan kolom 'rating' dan 'stars' yang ada dalam data.\n",
    "df.drop('Top Ten', axis=1, inplace=True)"
   ]
  },
  {
   "cell_type": "code",
   "execution_count": 14,
   "metadata": {},
   "outputs": [],
   "source": [
    "# Dalam kolom rating, ada beberapa produk yang belum di rating, dalam kasus ini kita akan buat rating tersebut menjadi '0'\n",
    "df['Stars'] = df['Stars'].str.replace('Unrated', '0')"
   ]
  },
  {
   "cell_type": "code",
   "execution_count": 15,
   "metadata": {},
   "outputs": [],
   "source": [
    "# Menghapus missing value pada 3 kolom\n",
    "df = df.dropna(subset=['Country', 'Stars', 'Style'])"
   ]
  },
  {
   "cell_type": "code",
   "execution_count": 16,
   "metadata": {},
   "outputs": [],
   "source": [
    "# Karena kolom rating sudah bersih dari 'str' maka kita dapat mengubah tipe data dari kolom rating menjadi numeric(float)\n",
    "df['Stars'] = df['Stars'].apply(pd.to_numeric, errors='coerce')"
   ]
  },
  {
   "cell_type": "code",
   "execution_count": 17,
   "metadata": {},
   "outputs": [
    {
     "data": {
      "text/html": [
       "<div>\n",
       "<style scoped>\n",
       "    .dataframe tbody tr th:only-of-type {\n",
       "        vertical-align: middle;\n",
       "    }\n",
       "\n",
       "    .dataframe tbody tr th {\n",
       "        vertical-align: top;\n",
       "    }\n",
       "\n",
       "    .dataframe thead th {\n",
       "        text-align: right;\n",
       "    }\n",
       "</style>\n",
       "<table border=\"1\" class=\"dataframe\">\n",
       "  <thead>\n",
       "    <tr style=\"text-align: right;\">\n",
       "      <th></th>\n",
       "      <th>Review</th>\n",
       "      <th>Brand</th>\n",
       "      <th>Variety</th>\n",
       "      <th>Style</th>\n",
       "      <th>Country</th>\n",
       "      <th>Stars</th>\n",
       "    </tr>\n",
       "  </thead>\n",
       "  <tbody>\n",
       "    <tr>\n",
       "      <th>0</th>\n",
       "      <td>0</td>\n",
       "      <td>0</td>\n",
       "      <td>0</td>\n",
       "      <td>0</td>\n",
       "      <td>0</td>\n",
       "      <td>0</td>\n",
       "    </tr>\n",
       "  </tbody>\n",
       "</table>\n",
       "</div>"
      ],
      "text/plain": [
       "   Review  Brand  Variety  Style  Country  Stars\n",
       "0       0      0        0      0        0      0"
      ]
     },
     "execution_count": 17,
     "metadata": {},
     "output_type": "execute_result"
    }
   ],
   "source": [
    "# melihat kembali apakah ada missing value yang terlewat\n",
    "df.isnull().sum().to_frame().T"
   ]
  },
  {
   "cell_type": "code",
   "execution_count": 18,
   "metadata": {},
   "outputs": [
    {
     "data": {
      "text/html": [
       "<div>\n",
       "<style scoped>\n",
       "    .dataframe tbody tr th:only-of-type {\n",
       "        vertical-align: middle;\n",
       "    }\n",
       "\n",
       "    .dataframe tbody tr th {\n",
       "        vertical-align: top;\n",
       "    }\n",
       "\n",
       "    .dataframe thead th {\n",
       "        text-align: right;\n",
       "    }\n",
       "</style>\n",
       "<table border=\"1\" class=\"dataframe\">\n",
       "  <thead>\n",
       "    <tr style=\"text-align: right;\">\n",
       "      <th></th>\n",
       "      <th>Review</th>\n",
       "      <th>Brand</th>\n",
       "      <th>Variety</th>\n",
       "      <th>Style</th>\n",
       "      <th>Country</th>\n",
       "      <th>Stars</th>\n",
       "    </tr>\n",
       "  </thead>\n",
       "  <tbody>\n",
       "    <tr>\n",
       "      <th>0</th>\n",
       "      <td>2580</td>\n",
       "      <td>New Touch</td>\n",
       "      <td>T's Restaurant Tantanmen</td>\n",
       "      <td>Cup</td>\n",
       "      <td>Japan</td>\n",
       "      <td>3.75</td>\n",
       "    </tr>\n",
       "    <tr>\n",
       "      <th>1</th>\n",
       "      <td>2579</td>\n",
       "      <td>Just Way</td>\n",
       "      <td>Noodles Spicy Hot Sesame Spicy Hot Sesame Guan...</td>\n",
       "      <td>Pack</td>\n",
       "      <td>Taiwan</td>\n",
       "      <td>1.00</td>\n",
       "    </tr>\n",
       "    <tr>\n",
       "      <th>2</th>\n",
       "      <td>2578</td>\n",
       "      <td>Nissin</td>\n",
       "      <td>Cup Noodles Chicken Vegetable</td>\n",
       "      <td>Cup</td>\n",
       "      <td>USA</td>\n",
       "      <td>2.25</td>\n",
       "    </tr>\n",
       "    <tr>\n",
       "      <th>3</th>\n",
       "      <td>2577</td>\n",
       "      <td>Wei Lih</td>\n",
       "      <td>GGE Ramen Snack Tomato Flavor</td>\n",
       "      <td>Pack</td>\n",
       "      <td>Taiwan</td>\n",
       "      <td>2.75</td>\n",
       "    </tr>\n",
       "    <tr>\n",
       "      <th>4</th>\n",
       "      <td>2576</td>\n",
       "      <td>Ching's Secret</td>\n",
       "      <td>Singapore Curry</td>\n",
       "      <td>Pack</td>\n",
       "      <td>India</td>\n",
       "      <td>3.75</td>\n",
       "    </tr>\n",
       "    <tr>\n",
       "      <th>5</th>\n",
       "      <td>2575</td>\n",
       "      <td>Samyang Foods</td>\n",
       "      <td>Kimchi song Song Ramen</td>\n",
       "      <td>Pack</td>\n",
       "      <td>South Korea</td>\n",
       "      <td>4.75</td>\n",
       "    </tr>\n",
       "    <tr>\n",
       "      <th>6</th>\n",
       "      <td>2574</td>\n",
       "      <td>Acecook</td>\n",
       "      <td>Spice Deli Tantan Men With Cilantro</td>\n",
       "      <td>Cup</td>\n",
       "      <td>Japan</td>\n",
       "      <td>4.00</td>\n",
       "    </tr>\n",
       "    <tr>\n",
       "      <th>7</th>\n",
       "      <td>2573</td>\n",
       "      <td>Ikeda Shoku</td>\n",
       "      <td>Nabeyaki Kitsune Udon</td>\n",
       "      <td>Tray</td>\n",
       "      <td>Japan</td>\n",
       "      <td>3.75</td>\n",
       "    </tr>\n",
       "    <tr>\n",
       "      <th>8</th>\n",
       "      <td>2572</td>\n",
       "      <td>Ripe'n'Dry</td>\n",
       "      <td>Hokkaido Soy Sauce Ramen</td>\n",
       "      <td>Pack</td>\n",
       "      <td>Japan</td>\n",
       "      <td>0.25</td>\n",
       "    </tr>\n",
       "    <tr>\n",
       "      <th>9</th>\n",
       "      <td>2571</td>\n",
       "      <td>KOKA</td>\n",
       "      <td>The Original Spicy Stir-Fried Noodles</td>\n",
       "      <td>Pack</td>\n",
       "      <td>Singapore</td>\n",
       "      <td>2.50</td>\n",
       "    </tr>\n",
       "    <tr>\n",
       "      <th>10</th>\n",
       "      <td>2570</td>\n",
       "      <td>Tao Kae Noi</td>\n",
       "      <td>Creamy tom Yum Kung Flavour</td>\n",
       "      <td>Pack</td>\n",
       "      <td>Thailand</td>\n",
       "      <td>5.00</td>\n",
       "    </tr>\n",
       "    <tr>\n",
       "      <th>11</th>\n",
       "      <td>2569</td>\n",
       "      <td>Yamachan</td>\n",
       "      <td>Yokohama Tonkotsu Shoyu</td>\n",
       "      <td>Pack</td>\n",
       "      <td>USA</td>\n",
       "      <td>5.00</td>\n",
       "    </tr>\n",
       "    <tr>\n",
       "      <th>12</th>\n",
       "      <td>2568</td>\n",
       "      <td>Nongshim</td>\n",
       "      <td>Mr. Bibim Stir-Fried Kimchi Flavor</td>\n",
       "      <td>Pack</td>\n",
       "      <td>South Korea</td>\n",
       "      <td>4.25</td>\n",
       "    </tr>\n",
       "    <tr>\n",
       "      <th>13</th>\n",
       "      <td>2567</td>\n",
       "      <td>Nissin</td>\n",
       "      <td>Deka Buto Kimchi Pork Flavor</td>\n",
       "      <td>Bowl</td>\n",
       "      <td>Japan</td>\n",
       "      <td>4.50</td>\n",
       "    </tr>\n",
       "    <tr>\n",
       "      <th>14</th>\n",
       "      <td>2566</td>\n",
       "      <td>Nissin</td>\n",
       "      <td>Demae Ramen Bar Noodle Aka Tonkotsu Flavour In...</td>\n",
       "      <td>Pack</td>\n",
       "      <td>Hong Kong</td>\n",
       "      <td>5.00</td>\n",
       "    </tr>\n",
       "    <tr>\n",
       "      <th>15</th>\n",
       "      <td>2565</td>\n",
       "      <td>KOKA</td>\n",
       "      <td>Mushroom Flavour Instant Noodles</td>\n",
       "      <td>Cup</td>\n",
       "      <td>Singapore</td>\n",
       "      <td>3.50</td>\n",
       "    </tr>\n",
       "    <tr>\n",
       "      <th>16</th>\n",
       "      <td>2564</td>\n",
       "      <td>TRDP</td>\n",
       "      <td>Mario Masala Noodles</td>\n",
       "      <td>Pack</td>\n",
       "      <td>India</td>\n",
       "      <td>3.75</td>\n",
       "    </tr>\n",
       "    <tr>\n",
       "      <th>17</th>\n",
       "      <td>2563</td>\n",
       "      <td>Yamachan</td>\n",
       "      <td>Tokyo Shoyu Ramen</td>\n",
       "      <td>Pack</td>\n",
       "      <td>USA</td>\n",
       "      <td>5.00</td>\n",
       "    </tr>\n",
       "    <tr>\n",
       "      <th>18</th>\n",
       "      <td>2562</td>\n",
       "      <td>Binh Tay</td>\n",
       "      <td>Mi Hai Cua</td>\n",
       "      <td>Pack</td>\n",
       "      <td>Vietnam</td>\n",
       "      <td>4.00</td>\n",
       "    </tr>\n",
       "    <tr>\n",
       "      <th>19</th>\n",
       "      <td>2561</td>\n",
       "      <td>Paldo</td>\n",
       "      <td>Premium Gomtang</td>\n",
       "      <td>Pack</td>\n",
       "      <td>South Korea</td>\n",
       "      <td>4.00</td>\n",
       "    </tr>\n",
       "    <tr>\n",
       "      <th>20</th>\n",
       "      <td>2560</td>\n",
       "      <td>Nissin</td>\n",
       "      <td>Cup Noodles Laksa Flavour</td>\n",
       "      <td>Cup</td>\n",
       "      <td>Hong Kong</td>\n",
       "      <td>4.25</td>\n",
       "    </tr>\n",
       "    <tr>\n",
       "      <th>21</th>\n",
       "      <td>2559</td>\n",
       "      <td>Jackpot Teriyaki</td>\n",
       "      <td>Beef Ramen</td>\n",
       "      <td>Pack</td>\n",
       "      <td>USA</td>\n",
       "      <td>5.00</td>\n",
       "    </tr>\n",
       "    <tr>\n",
       "      <th>22</th>\n",
       "      <td>2558</td>\n",
       "      <td>KOKA</td>\n",
       "      <td>Creamy Soup With Crushed Noodles Hot &amp; Sour Fi...</td>\n",
       "      <td>Cup</td>\n",
       "      <td>Singapore</td>\n",
       "      <td>5.00</td>\n",
       "    </tr>\n",
       "    <tr>\n",
       "      <th>23</th>\n",
       "      <td>2557</td>\n",
       "      <td>Yamachan</td>\n",
       "      <td>Sapporo Miso Ramen</td>\n",
       "      <td>Pack</td>\n",
       "      <td>USA</td>\n",
       "      <td>4.75</td>\n",
       "    </tr>\n",
       "    <tr>\n",
       "      <th>24</th>\n",
       "      <td>2556</td>\n",
       "      <td>Ching's Secret</td>\n",
       "      <td>Hot Garlic Instant Noodles</td>\n",
       "      <td>Pack</td>\n",
       "      <td>India</td>\n",
       "      <td>4.25</td>\n",
       "    </tr>\n",
       "    <tr>\n",
       "      <th>25</th>\n",
       "      <td>2555</td>\n",
       "      <td>Samyang Foods</td>\n",
       "      <td>Song Song Kimchi Big Bowl</td>\n",
       "      <td>Bowl</td>\n",
       "      <td>South Korea</td>\n",
       "      <td>4.25</td>\n",
       "    </tr>\n",
       "    <tr>\n",
       "      <th>26</th>\n",
       "      <td>2554</td>\n",
       "      <td>Yum-Mie</td>\n",
       "      <td>Instant Noodles Beef In Light Soup Flavour</td>\n",
       "      <td>Pack</td>\n",
       "      <td>Ghana</td>\n",
       "      <td>3.50</td>\n",
       "    </tr>\n",
       "    <tr>\n",
       "      <th>27</th>\n",
       "      <td>2553</td>\n",
       "      <td>Nissin</td>\n",
       "      <td>Hakata Ramen Noodle White Tonkotsu</td>\n",
       "      <td>Bowl</td>\n",
       "      <td>Japan</td>\n",
       "      <td>4.75</td>\n",
       "    </tr>\n",
       "    <tr>\n",
       "      <th>28</th>\n",
       "      <td>2552</td>\n",
       "      <td>MyKuali</td>\n",
       "      <td>Penang White Curry Rice Vermicelli Soup</td>\n",
       "      <td>Bowl</td>\n",
       "      <td>Malaysia</td>\n",
       "      <td>5.00</td>\n",
       "    </tr>\n",
       "    <tr>\n",
       "      <th>29</th>\n",
       "      <td>2551</td>\n",
       "      <td>KOKA</td>\n",
       "      <td>Signature Tom Yum Flavor Instant Noodles</td>\n",
       "      <td>Pack</td>\n",
       "      <td>Singapore</td>\n",
       "      <td>4.00</td>\n",
       "    </tr>\n",
       "  </tbody>\n",
       "</table>\n",
       "</div>"
      ],
      "text/plain": [
       "    Review             Brand  \\\n",
       "0     2580         New Touch   \n",
       "1     2579          Just Way   \n",
       "2     2578            Nissin   \n",
       "3     2577           Wei Lih   \n",
       "4     2576    Ching's Secret   \n",
       "5     2575     Samyang Foods   \n",
       "6     2574           Acecook   \n",
       "7     2573       Ikeda Shoku   \n",
       "8     2572        Ripe'n'Dry   \n",
       "9     2571              KOKA   \n",
       "10    2570       Tao Kae Noi   \n",
       "11    2569          Yamachan   \n",
       "12    2568          Nongshim   \n",
       "13    2567            Nissin   \n",
       "14    2566            Nissin   \n",
       "15    2565              KOKA   \n",
       "16    2564              TRDP   \n",
       "17    2563          Yamachan   \n",
       "18    2562          Binh Tay   \n",
       "19    2561             Paldo   \n",
       "20    2560            Nissin   \n",
       "21    2559  Jackpot Teriyaki   \n",
       "22    2558              KOKA   \n",
       "23    2557          Yamachan   \n",
       "24    2556    Ching's Secret   \n",
       "25    2555     Samyang Foods   \n",
       "26    2554           Yum-Mie   \n",
       "27    2553            Nissin   \n",
       "28    2552           MyKuali   \n",
       "29    2551              KOKA   \n",
       "\n",
       "                                              Variety Style      Country  \\\n",
       "0                           T's Restaurant Tantanmen    Cup        Japan   \n",
       "1   Noodles Spicy Hot Sesame Spicy Hot Sesame Guan...  Pack       Taiwan   \n",
       "2                       Cup Noodles Chicken Vegetable   Cup          USA   \n",
       "3                       GGE Ramen Snack Tomato Flavor  Pack       Taiwan   \n",
       "4                                     Singapore Curry  Pack        India   \n",
       "5                              Kimchi song Song Ramen  Pack  South Korea   \n",
       "6                 Spice Deli Tantan Men With Cilantro   Cup        Japan   \n",
       "7                               Nabeyaki Kitsune Udon  Tray        Japan   \n",
       "8                            Hokkaido Soy Sauce Ramen  Pack        Japan   \n",
       "9               The Original Spicy Stir-Fried Noodles  Pack    Singapore   \n",
       "10                        Creamy tom Yum Kung Flavour  Pack     Thailand   \n",
       "11                            Yokohama Tonkotsu Shoyu  Pack          USA   \n",
       "12                 Mr. Bibim Stir-Fried Kimchi Flavor  Pack  South Korea   \n",
       "13                       Deka Buto Kimchi Pork Flavor  Bowl        Japan   \n",
       "14  Demae Ramen Bar Noodle Aka Tonkotsu Flavour In...  Pack    Hong Kong   \n",
       "15                   Mushroom Flavour Instant Noodles   Cup    Singapore   \n",
       "16                               Mario Masala Noodles  Pack        India   \n",
       "17                                  Tokyo Shoyu Ramen  Pack          USA   \n",
       "18                                         Mi Hai Cua  Pack      Vietnam   \n",
       "19                                    Premium Gomtang  Pack  South Korea   \n",
       "20                          Cup Noodles Laksa Flavour   Cup    Hong Kong   \n",
       "21                                         Beef Ramen  Pack          USA   \n",
       "22  Creamy Soup With Crushed Noodles Hot & Sour Fi...   Cup    Singapore   \n",
       "23                                 Sapporo Miso Ramen  Pack          USA   \n",
       "24                         Hot Garlic Instant Noodles  Pack        India   \n",
       "25                          Song Song Kimchi Big Bowl  Bowl  South Korea   \n",
       "26         Instant Noodles Beef In Light Soup Flavour  Pack        Ghana   \n",
       "27                 Hakata Ramen Noodle White Tonkotsu  Bowl        Japan   \n",
       "28            Penang White Curry Rice Vermicelli Soup  Bowl     Malaysia   \n",
       "29           Signature Tom Yum Flavor Instant Noodles  Pack    Singapore   \n",
       "\n",
       "    Stars  \n",
       "0    3.75  \n",
       "1    1.00  \n",
       "2    2.25  \n",
       "3    2.75  \n",
       "4    3.75  \n",
       "5    4.75  \n",
       "6    4.00  \n",
       "7    3.75  \n",
       "8    0.25  \n",
       "9    2.50  \n",
       "10   5.00  \n",
       "11   5.00  \n",
       "12   4.25  \n",
       "13   4.50  \n",
       "14   5.00  \n",
       "15   3.50  \n",
       "16   3.75  \n",
       "17   5.00  \n",
       "18   4.00  \n",
       "19   4.00  \n",
       "20   4.25  \n",
       "21   5.00  \n",
       "22   5.00  \n",
       "23   4.75  \n",
       "24   4.25  \n",
       "25   4.25  \n",
       "26   3.50  \n",
       "27   4.75  \n",
       "28   5.00  \n",
       "29   4.00  "
      ]
     },
     "execution_count": 18,
     "metadata": {},
     "output_type": "execute_result"
    }
   ],
   "source": [
    "# perlihatkan kembali 30 data yang ada.\n",
    "df.head(30)"
   ]
  },
  {
   "cell_type": "code",
   "execution_count": 19,
   "metadata": {},
   "outputs": [],
   "source": [
    "# save file .csv dan jangan lupa untuk berikan index = False agar tidak ada kolom baru bernama unnamed = 0\n",
    "df.to_csv('clean_ramen.csv', index = False)"
   ]
  },
  {
   "cell_type": "code",
   "execution_count": 32,
   "metadata": {},
   "outputs": [
    {
     "data": {
      "text/html": [
       "<div>\n",
       "<style scoped>\n",
       "    .dataframe tbody tr th:only-of-type {\n",
       "        vertical-align: middle;\n",
       "    }\n",
       "\n",
       "    .dataframe tbody tr th {\n",
       "        vertical-align: top;\n",
       "    }\n",
       "\n",
       "    .dataframe thead th {\n",
       "        text-align: right;\n",
       "    }\n",
       "</style>\n",
       "<table border=\"1\" class=\"dataframe\">\n",
       "  <thead>\n",
       "    <tr style=\"text-align: right;\">\n",
       "      <th></th>\n",
       "      <th>Review</th>\n",
       "      <th>Brand</th>\n",
       "      <th>Variety</th>\n",
       "      <th>Style</th>\n",
       "      <th>Country</th>\n",
       "      <th>Stars</th>\n",
       "    </tr>\n",
       "  </thead>\n",
       "  <tbody>\n",
       "    <tr>\n",
       "      <th>0</th>\n",
       "      <td>2580</td>\n",
       "      <td>New Touch</td>\n",
       "      <td>T's Restaurant Tantanmen</td>\n",
       "      <td>Cup</td>\n",
       "      <td>Japan</td>\n",
       "      <td>3.75</td>\n",
       "    </tr>\n",
       "    <tr>\n",
       "      <th>1</th>\n",
       "      <td>2579</td>\n",
       "      <td>Just Way</td>\n",
       "      <td>Noodles Spicy Hot Sesame Spicy Hot Sesame Guan...</td>\n",
       "      <td>Pack</td>\n",
       "      <td>Taiwan</td>\n",
       "      <td>1.00</td>\n",
       "    </tr>\n",
       "    <tr>\n",
       "      <th>2</th>\n",
       "      <td>2578</td>\n",
       "      <td>Nissin</td>\n",
       "      <td>Cup Noodles Chicken Vegetable</td>\n",
       "      <td>Cup</td>\n",
       "      <td>USA</td>\n",
       "      <td>2.25</td>\n",
       "    </tr>\n",
       "    <tr>\n",
       "      <th>3</th>\n",
       "      <td>2577</td>\n",
       "      <td>Wei Lih</td>\n",
       "      <td>GGE Ramen Snack Tomato Flavor</td>\n",
       "      <td>Pack</td>\n",
       "      <td>Taiwan</td>\n",
       "      <td>2.75</td>\n",
       "    </tr>\n",
       "    <tr>\n",
       "      <th>4</th>\n",
       "      <td>2576</td>\n",
       "      <td>Ching's Secret</td>\n",
       "      <td>Singapore Curry</td>\n",
       "      <td>Pack</td>\n",
       "      <td>India</td>\n",
       "      <td>3.75</td>\n",
       "    </tr>\n",
       "    <tr>\n",
       "      <th>...</th>\n",
       "      <td>...</td>\n",
       "      <td>...</td>\n",
       "      <td>...</td>\n",
       "      <td>...</td>\n",
       "      <td>...</td>\n",
       "      <td>...</td>\n",
       "    </tr>\n",
       "    <tr>\n",
       "      <th>2575</th>\n",
       "      <td>5</td>\n",
       "      <td>Vifon</td>\n",
       "      <td>Hu Tiu Nam Vang [\"Phnom Penh\" style] Asian Sty...</td>\n",
       "      <td>Bowl</td>\n",
       "      <td>Vietnam</td>\n",
       "      <td>3.50</td>\n",
       "    </tr>\n",
       "    <tr>\n",
       "      <th>2576</th>\n",
       "      <td>4</td>\n",
       "      <td>Wai Wai</td>\n",
       "      <td>Oriental Style Instant Noodles</td>\n",
       "      <td>Pack</td>\n",
       "      <td>Thailand</td>\n",
       "      <td>1.00</td>\n",
       "    </tr>\n",
       "    <tr>\n",
       "      <th>2577</th>\n",
       "      <td>3</td>\n",
       "      <td>Wai Wai</td>\n",
       "      <td>Tom Yum Shrimp</td>\n",
       "      <td>Pack</td>\n",
       "      <td>Thailand</td>\n",
       "      <td>2.00</td>\n",
       "    </tr>\n",
       "    <tr>\n",
       "      <th>2578</th>\n",
       "      <td>2</td>\n",
       "      <td>Wai Wai</td>\n",
       "      <td>Tom Yum Chili Flavor</td>\n",
       "      <td>Pack</td>\n",
       "      <td>Thailand</td>\n",
       "      <td>2.00</td>\n",
       "    </tr>\n",
       "    <tr>\n",
       "      <th>2579</th>\n",
       "      <td>1</td>\n",
       "      <td>Westbrae</td>\n",
       "      <td>Miso Ramen</td>\n",
       "      <td>Pack</td>\n",
       "      <td>USA</td>\n",
       "      <td>0.50</td>\n",
       "    </tr>\n",
       "  </tbody>\n",
       "</table>\n",
       "<p>2578 rows × 6 columns</p>\n",
       "</div>"
      ],
      "text/plain": [
       "      Review           Brand  \\\n",
       "0       2580       New Touch   \n",
       "1       2579        Just Way   \n",
       "2       2578          Nissin   \n",
       "3       2577         Wei Lih   \n",
       "4       2576  Ching's Secret   \n",
       "...      ...             ...   \n",
       "2575       5           Vifon   \n",
       "2576       4         Wai Wai   \n",
       "2577       3         Wai Wai   \n",
       "2578       2         Wai Wai   \n",
       "2579       1        Westbrae   \n",
       "\n",
       "                                                Variety Style   Country  Stars  \n",
       "0                             T's Restaurant Tantanmen    Cup     Japan   3.75  \n",
       "1     Noodles Spicy Hot Sesame Spicy Hot Sesame Guan...  Pack    Taiwan   1.00  \n",
       "2                         Cup Noodles Chicken Vegetable   Cup       USA   2.25  \n",
       "3                         GGE Ramen Snack Tomato Flavor  Pack    Taiwan   2.75  \n",
       "4                                       Singapore Curry  Pack     India   3.75  \n",
       "...                                                 ...   ...       ...    ...  \n",
       "2575  Hu Tiu Nam Vang [\"Phnom Penh\" style] Asian Sty...  Bowl   Vietnam   3.50  \n",
       "2576                     Oriental Style Instant Noodles  Pack  Thailand   1.00  \n",
       "2577                                     Tom Yum Shrimp  Pack  Thailand   2.00  \n",
       "2578                               Tom Yum Chili Flavor  Pack  Thailand   2.00  \n",
       "2579                                         Miso Ramen  Pack       USA   0.50  \n",
       "\n",
       "[2578 rows x 6 columns]"
      ]
     },
     "execution_count": 32,
     "metadata": {},
     "output_type": "execute_result"
    }
   ],
   "source": [
    "df"
   ]
  },
  {
   "cell_type": "markdown",
   "metadata": {},
   "source": [
    "## Analysis"
   ]
  },
  {
   "cell_type": "code",
   "execution_count": 20,
   "metadata": {},
   "outputs": [
    {
     "name": "stderr",
     "output_type": "stream",
     "text": [
      "C:\\Users\\Alew\\AppData\\Local\\Temp\\ipykernel_8412\\2340486368.py:5: DeprecationWarning: Importing display from IPython.core.display is deprecated since IPython 7.14, please import from IPython display\n",
      "  from IPython.core.display import display, HTML\n"
     ]
    }
   ],
   "source": [
    "# mengimport package yang di butuhkan untuk proses analisis\n",
    "from scipy import stats\n",
    "import matplotlib.pyplot as plt\n",
    "import seaborn as sns\n",
    "from IPython.core.display import display, HTML\n",
    "import warnings\n",
    "\n",
    "#mengimport dataframe yang sudah bersih\n",
    "df_clean = pd.read_csv('clean_ramen.csv')"
   ]
  },
  {
   "cell_type": "markdown",
   "metadata": {},
   "source": [
    "### Penjabaran 1"
   ]
  },
  {
   "cell_type": "markdown",
   "metadata": {},
   "source": [
    "#### Mencari tahu distribusi mengenai negara yang memproduksi mie instant terbanyak berdasarkan dataset ini"
   ]
  },
  {
   "cell_type": "code",
   "execution_count": 21,
   "metadata": {},
   "outputs": [
    {
     "name": "stdout",
     "output_type": "stream",
     "text": [
      "Ada 38 negara yang memproduksi mie instant dalam data ini, yaitu:\n"
     ]
    },
    {
     "data": {
      "text/html": [
       "<div>\n",
       "<style scoped>\n",
       "    .dataframe tbody tr th:only-of-type {\n",
       "        vertical-align: middle;\n",
       "    }\n",
       "\n",
       "    .dataframe tbody tr th {\n",
       "        vertical-align: top;\n",
       "    }\n",
       "\n",
       "    .dataframe thead th {\n",
       "        text-align: right;\n",
       "    }\n",
       "</style>\n",
       "<table border=\"1\" class=\"dataframe\">\n",
       "  <thead>\n",
       "    <tr style=\"text-align: right;\">\n",
       "      <th>Country</th>\n",
       "      <th>Japan</th>\n",
       "      <th>USA</th>\n",
       "      <th>South Korea</th>\n",
       "      <th>Taiwan</th>\n",
       "      <th>Thailand</th>\n",
       "      <th>China</th>\n",
       "      <th>Malaysia</th>\n",
       "      <th>Hong Kong</th>\n",
       "      <th>Indonesia</th>\n",
       "      <th>Singapore</th>\n",
       "      <th>...</th>\n",
       "      <th>Holland</th>\n",
       "      <th>Poland</th>\n",
       "      <th>Finland</th>\n",
       "      <th>Sarawak</th>\n",
       "      <th>Sweden</th>\n",
       "      <th>Dubai</th>\n",
       "      <th>Ghana</th>\n",
       "      <th>Estonia</th>\n",
       "      <th>Nigeria</th>\n",
       "      <th>United States</th>\n",
       "    </tr>\n",
       "  </thead>\n",
       "  <tbody>\n",
       "    <tr>\n",
       "      <th>count</th>\n",
       "      <td>352</td>\n",
       "      <td>323</td>\n",
       "      <td>309</td>\n",
       "      <td>223</td>\n",
       "      <td>191</td>\n",
       "      <td>168</td>\n",
       "      <td>156</td>\n",
       "      <td>137</td>\n",
       "      <td>126</td>\n",
       "      <td>109</td>\n",
       "      <td>...</td>\n",
       "      <td>4</td>\n",
       "      <td>4</td>\n",
       "      <td>3</td>\n",
       "      <td>3</td>\n",
       "      <td>3</td>\n",
       "      <td>3</td>\n",
       "      <td>2</td>\n",
       "      <td>2</td>\n",
       "      <td>1</td>\n",
       "      <td>1</td>\n",
       "    </tr>\n",
       "  </tbody>\n",
       "</table>\n",
       "<p>1 rows × 38 columns</p>\n",
       "</div>"
      ],
      "text/plain": [
       "Country  Japan  USA  South Korea  Taiwan  Thailand  China  Malaysia  \\\n",
       "count      352  323          309     223       191    168       156   \n",
       "\n",
       "Country  Hong Kong  Indonesia  Singapore  ...  Holland  Poland  Finland  \\\n",
       "count          137        126        109  ...        4       4        3   \n",
       "\n",
       "Country  Sarawak  Sweden  Dubai  Ghana  Estonia  Nigeria  United States  \n",
       "count          3       3      3      2        2        1              1  \n",
       "\n",
       "[1 rows x 38 columns]"
      ]
     },
     "execution_count": 21,
     "metadata": {},
     "output_type": "execute_result"
    }
   ],
   "source": [
    "print(f'Ada {len(df_clean[\"Country\"].value_counts())} negara yang memproduksi mie instant dalam data ini, yaitu:')\n",
    "df_clean[\"Country\"].value_counts().to_frame().T"
   ]
  },
  {
   "cell_type": "code",
   "execution_count": 22,
   "metadata": {},
   "outputs": [
    {
     "name": "stderr",
     "output_type": "stream",
     "text": [
      "C:\\Users\\Alew\\AppData\\Local\\Temp\\ipykernel_8412\\2695572433.py:7: FutureWarning: \n",
      "\n",
      "Passing `palette` without assigning `hue` is deprecated and will be removed in v0.14.0. Assign the `y` variable to `hue` and set `legend=False` for the same effect.\n",
      "\n",
      "  p=sns.countplot(df_clean[\"Country\"],order=df_clean[\"Country\"].value_counts().index[:10],palette=palette, saturation=1, edgecolor = \"black\", linewidth = .7)\n",
      "C:\\Users\\Alew\\AppData\\Local\\Temp\\ipykernel_8412\\2695572433.py:7: UserWarning: \n",
      "The palette list has fewer values (5) than needed (10) and will cycle, which may produce an uninterpretable plot.\n",
      "  p=sns.countplot(df_clean[\"Country\"],order=df_clean[\"Country\"].value_counts().index[:10],palette=palette, saturation=1, edgecolor = \"black\", linewidth = .7)\n"
     ]
    },
    {
     "data": {
      "image/png": "[encoded data removed]",
      "text/plain": [
       "<Figure size 1800x800 with 1 Axes>"
      ]
     },
     "metadata": {},
     "output_type": "display_data"
    }
   ],
   "source": [
    "# membuat figur dengan ukuran 18x8inch\n",
    "plt.subplots(figsize=(18, 8))\n",
    "\n",
    "# membuat palette warna yang di gunakan di figur ini\n",
    "palette = [\"#003f5c\",\"#58508d\",\"#bc5090\",\"#ff6361\",\"#ffa600\"]\n",
    "#membuat countplot dari df_clean['country'] yang di urutkan dan hanya menampilkan 10 brand ter atas dari data\n",
    "p=sns.countplot(df_clean[\"Country\"],order=df_clean[\"Country\"].value_counts().index[:10],palette=palette, saturation=1, edgecolor = \"black\", linewidth = .7)\n",
    "\n",
    "# membuat judul figur \n",
    "p.axes.set_title(\"\\nNegara produsen Mie Instant\\n\",fontsize=23)\n",
    "\n",
    "# membuat judul sumbu x = total produk\n",
    "p.axes.set_xlabel(\"\\nTotal produk\\n\",fontsize=20)\n",
    "\n",
    "# membuat judul sumbu y = \"negara\"\n",
    "p.axes.set_ylabel(\"\\nNegara\\n\",fontsize=20)\n",
    "\n",
    "#membuat container yang berisikan total data masing masing negara\n",
    "for container in p.containers:\n",
    "    p.bar_label(container,label_type=\"center\",padding=10,size=15,color=\"black\",rotation=0,\n",
    "    bbox={\"pad\": 1, \"facecolor\": \"white\", \"edgecolor\": \"#1c1c1c\", \"linewidth\" : .2, \"alpha\": 1})\n",
    "\n",
    "#menghapus garis sumbu\n",
    "sns.despine(left=True, bottom=True)\n",
    "plt.show()"
   ]
  },
  {
   "cell_type": "markdown",
   "metadata": {},
   "source": [
    "Pada data di atas, di tampilkan TOP 10 total produk dari negara yang memproduksi mie instant. Terlihat bahwa __Japan__ merupakan negara yang paling banyak memproduksi Mie instant sebanyak 352 produk, disusul oleh __USA__ dengan 323 produk dan __South Korea__ sebanyak 309 produk, sedangkan __Indonesia__ berada di urutan ke 9 dalam data ini dengan hanya 126 produk.\n",
    "\n",
    "Singkatnya, indonesia dengan negara yang jauh lebih besar dari jepang dan korea selatan dan juga sesama negara asean yaitu thailand dan malaysia masih 'kekurangan' dalam segi variasi mie instant"
   ]
  },
  {
   "cell_type": "markdown",
   "metadata": {},
   "source": [
    "### Penjabaran 2"
   ]
  },
  {
   "cell_type": "markdown",
   "metadata": {},
   "source": [
    "#### Mencari distribusi rating Mie instant secara keseluruhan"
   ]
  },
  {
   "cell_type": "code",
   "execution_count": 23,
   "metadata": {},
   "outputs": [
    {
     "data": {
      "image/png": "[encoded data removed]",
      "text/plain": [
       "<Figure size 2200x1000 with 1 Axes>"
      ]
     },
     "metadata": {},
     "output_type": "display_data"
    }
   ],
   "source": [
    "#membuat figur dengan ukuran 22x10inch\n",
    "plt.subplots(figsize=(22, 10))\n",
    "\n",
    "# membuat histogram dari seaborn yang datanya di ambil dari df_clean['Stars'] dengan jumlah bins(batang) dan menggunakan warna hex 58508d\n",
    "p = sns.histplot(df_clean[\"Stars\"],color='#58508d',kde=True,bins=15,alpha=.70,fill=True)\n",
    "# mengatur warna garis kde\n",
    "p.axes.lines[0].set_color(\"#ffa600\")\n",
    "\n",
    "# membjuat judul figur\n",
    "p.axes.set_title(\"\\nDistribusi rating Mie instant\\n\",fontsize=20)\n",
    "\n",
    "#membuat judul sumbu y\n",
    "plt.ylabel(\"Count\")\n",
    "\n",
    "# menghapus garis sumbu\n",
    "sns.despine(left=True, bottom=True)\n",
    "\n",
    "plt.show()"
   ]
  },
  {
   "cell_type": "markdown",
   "metadata": {},
   "source": [
    "Berdasarkan chart di atas, dapat dilihat bahwa sebaran rating mie instant berkumpul antara rating 3-5, hal ini menunjukkan bahwa kebaynakan ramen memiliki rating tinggi, dan sisanya memiliki rating rendah"
   ]
  },
  {
   "cell_type": "markdown",
   "metadata": {},
   "source": [
    "Jika kita hitung mean median dan mode nya maka:"
   ]
  },
  {
   "cell_type": "code",
   "execution_count": 24,
   "metadata": {},
   "outputs": [
    {
     "name": "stdout",
     "output_type": "stream",
     "text": [
      "Rata-rata rating: 3.650640031031807\n",
      "Median rating: 3.75\n",
      "Mode rating: 4.0\n",
      "standard deviation rating adalah: 1.0226725364370397\n",
      "skewness rating adalah: -1.0983178700479248\n",
      "kurtosis rating adalah: 1.771349494256877\n"
     ]
    }
   ],
   "source": [
    "print('Rata-rata rating:',df_clean['Stars'].mean(),)\n",
    "print('Median rating:',df_clean['Stars'].median(),)\n",
    "print('Mode rating:',df_clean['Stars'].mode().values[0],)\n",
    "print('standard deviation rating adalah:',df_clean['Stars'].std())\n",
    "print('skewness rating adalah:',df_clean['Stars'].skew())\n",
    "print('kurtosis rating adalah:',df_clean['Stars'].kurt())"
   ]
  },
  {
   "cell_type": "markdown",
   "metadata": {},
   "source": [
    "berdasarkan perhitungan dari data di atas di temukan bahwa\n",
    "1. Rata rata rating pada dataset ini adalah 3.65\n",
    "2. Median rating berada di angka 3.75\n",
    "3. Mode (data terbanyak) rating adalah 4\n",
    "\n",
    "standar deviasi rating adalah sebesar 1.0 yang berarti rating memiliki variasi yang moderat di sekitar rata-rata.\n",
    "skewness rating berada di angka -1.10,  maka data miring ke kanan di sebabkan oleh banyak nya rating yang lebih tinggi daripada rating yang lebih rendah\n",
    "kurtosis rating bernilai 1.17, menunjukkan bahwa meskipun distribusi data lebih dari normal, ekornya tidak terlalu ekstrem dan mendekati distribusi normal"
   ]
  },
  {
   "cell_type": "markdown",
   "metadata": {},
   "source": [
    "\n",
    "### Penjabaran 3"
   ]
  },
  {
   "cell_type": "markdown",
   "metadata": {},
   "source": [
    "#### Mencari distribusi packaging mie instant yang ada di dalam data"
   ]
  },
  {
   "cell_type": "code",
   "execution_count": 25,
   "metadata": {},
   "outputs": [
    {
     "name": "stdout",
     "output_type": "stream",
     "text": [
      "Packaging mie instant dalam data ini:\n"
     ]
    },
    {
     "data": {
      "text/html": [
       "<div>\n",
       "<style scoped>\n",
       "    .dataframe tbody tr th:only-of-type {\n",
       "        vertical-align: middle;\n",
       "    }\n",
       "\n",
       "    .dataframe tbody tr th {\n",
       "        vertical-align: top;\n",
       "    }\n",
       "\n",
       "    .dataframe thead th {\n",
       "        text-align: right;\n",
       "    }\n",
       "</style>\n",
       "<table border=\"1\" class=\"dataframe\">\n",
       "  <thead>\n",
       "    <tr style=\"text-align: right;\">\n",
       "      <th>Style</th>\n",
       "      <th>Pack</th>\n",
       "      <th>Bowl</th>\n",
       "      <th>Cup</th>\n",
       "      <th>Tray</th>\n",
       "      <th>Box</th>\n",
       "      <th>Can</th>\n",
       "      <th>Bar</th>\n",
       "    </tr>\n",
       "  </thead>\n",
       "  <tbody>\n",
       "    <tr>\n",
       "      <th>count</th>\n",
       "      <td>1531</td>\n",
       "      <td>481</td>\n",
       "      <td>450</td>\n",
       "      <td>108</td>\n",
       "      <td>6</td>\n",
       "      <td>1</td>\n",
       "      <td>1</td>\n",
       "    </tr>\n",
       "  </tbody>\n",
       "</table>\n",
       "</div>"
      ],
      "text/plain": [
       "Style  Pack  Bowl  Cup  Tray  Box  Can  Bar\n",
       "count  1531   481  450   108    6    1    1"
      ]
     },
     "execution_count": 25,
     "metadata": {},
     "output_type": "execute_result"
    }
   ],
   "source": [
    "print(\"Packaging mie instant dalam data ini:\")\n",
    "df_clean[\"Style\"].value_counts().to_frame().T"
   ]
  },
  {
   "cell_type": "markdown",
   "metadata": {},
   "source": [
    "##### Jika dilihat dalam Piechart maka:"
   ]
  },
  {
   "cell_type": "code",
   "execution_count": 26,
   "metadata": {},
   "outputs": [
    {
     "data": {
      "image/png": "[encoded data removed]",
      "text/plain": [
       "<Figure size 1000x1000 with 1 Axes>"
      ]
     },
     "metadata": {},
     "output_type": "display_data"
    }
   ],
   "source": [
    "# membuat figur sebesar 10x10\n",
    "plt.subplots(figsize=(10, 10))\n",
    "\n",
    "#memberikan label untuk masing masing data\n",
    "labels = \"Pack\",\"Box\",\"Tray\",\"Cup\",\"Bowl\"\n",
    "\n",
    "#mendefinisikan size(ukuran)\n",
    "size = 0.8\n",
    "\n",
    "# panggil data yang akan di gunakan\n",
    "wedges, texts, autotexts = plt.pie([\n",
    "    len(df_clean[df_clean[\"Style\"] == \"Pack\"][\"Style\"]), \n",
    "    len(df_clean[df_clean[\"Style\"] == \"Box\"][\"Style\"]),\n",
    "    len(df_clean[df_clean[\"Style\"] == \"Tray\"][\"Style\"]),\n",
    "    len(df_clean[df_clean[\"Style\"] == \"Cup\"][\"Style\"]),\n",
    "    len(df_clean[df_clean[\"Style\"] == \"Bowl\"][\"Style\"])],\n",
    "\n",
    "#membuat data \"bercerai\" sebanyak N (jika = maka diam di tempat)                                   \n",
    "explode = (0.1,0.2,0,0,0),\n",
    "\n",
    "#mendefinisikan teks yang ada di dalam piechart dari size dan color\n",
    "textprops=dict(size= 14, color= \"black\"),\n",
    "\n",
    "# mengambil 2 nomor di belakang koma dengan #.2f dan mengubahnya menjadi persentase dengan %%\n",
    "autopct=\"%.2f%%\", \n",
    "\n",
    "# mengatur distance teks\n",
    "pctdistance = 0.55,\n",
    "\n",
    "# mengatur radius (ukuran) piechart\n",
    "radius=1, \n",
    "\n",
    "# memberikan warna kepada setiap data yang ada\n",
    "colors = [\"#42f5d7\",\"#FF1345\",\"#bc5090\",\"#ff6361\",\"#ffa600\"],\n",
    "\n",
    "# membuat piechart\n",
    "wedgeprops=dict(width = size, edgecolor = \"white\", linewidth = .5),\n",
    "\n",
    "# untuk membuat chart lebih enak di lihat (memutar pie)\n",
    "startangle = 90)\n",
    "\n",
    "#berikan legend agar mudah di identifikasi\n",
    "plt.legend(wedges, labels, title=\"Category\",loc=\"center left\",bbox_to_anchor=(1, 0, 0.5, 1))\n",
    "\n",
    "# berikan tittle\n",
    "plt.title(\"\\nPersentase Bentuk Packaging Mie Instant\",fontsize=20)\n",
    "plt.show()"
   ]
  },
  {
   "cell_type": "markdown",
   "metadata": {},
   "source": [
    "Beradasarkan figur di atas dapat di simpulkan bahwa:\n",
    "1. Style packing 'Pack' merupakan tipe terbanyak dari data ini dengan sebanyak 59.43% dari data\n",
    "2. 'Bowl' mendapatkan persentase 18.67% dari sebaran data\n",
    "3. 'Cup' mendapatkan persentasse 17.47\n",
    "4. Sedangkan tray hanya sebesar 4.19% dan box sebesar 0.23% dari sebaran data"
   ]
  },
  {
   "cell_type": "markdown",
   "metadata": {},
   "source": [
    "### Penjabaran 4"
   ]
  },
  {
   "cell_type": "markdown",
   "metadata": {},
   "source": [
    "Dikarenakan Pada penjabaran 3, Stlye 'Pack' merupakan style terbanyak pada data ini, saya ingin mengetahui apakah rating nya baik atau tidak."
   ]
  },
  {
   "cell_type": "code",
   "execution_count": 27,
   "metadata": {},
   "outputs": [
    {
     "data": {
      "image/png": "[encoded data removed]",
      "text/plain": [
       "<Figure size 2000x1600 with 1 Axes>"
      ]
     },
     "metadata": {},
     "output_type": "display_data"
    }
   ],
   "source": [
    "# membuat figur dengan ukuran 20x16inch\n",
    "plt.subplots(figsize=(20, 16))\n",
    "\n",
    "\n",
    "plt.tight_layout(pad=4.0)\n",
    "\n",
    "# membuat chart\n",
    "p = sns.histplot(df_clean[df_clean[\"Style\"]==\"Pack\"][\"Stars\"],color='#994134',kde=True,bins=20,alpha=1,edgecolor=\"#1c1c1c\",linewidth=2)\n",
    "# ngasih warna ke line \n",
    "p.axes.lines[0].set_color(\"#ffa600\")\n",
    "# memberikan judul figur \n",
    "p.set_title(\"\\nRamen Category : Pack\\n\",fontsize=25)\n",
    "\n",
    "# berikan judul untuk sumbu x\n",
    "p.set_xlabel(\"Ratings [0 - 5]\")\n",
    "\n",
    "# berikan label untuk sumbu y\n",
    "p.set_ylabel(\"Count\")\n",
    "\n",
    "# hapus sumbu\n",
    "sns.despine(left=True, bottom=True)\n",
    "plt.show()"
   ]
  },
  {
   "cell_type": "markdown",
   "metadata": {},
   "source": [
    "terlihat bahwa penyebaran rating untuk style 'pack' memiliki rating yang baik, yaitu berkisar antara ratin 3 hingga 5, oleh karena itu pack dapat dikatakan sebagai \"metode packing terbaik\""
   ]
  },
  {
   "cell_type": "code",
   "execution_count": 28,
   "metadata": {},
   "outputs": [
    {
     "name": "stdout",
     "output_type": "stream",
     "text": [
      "                                 Variety  Stars\n",
      "5                 Kimchi song Song Ramen   4.75\n",
      "10           Creamy tom Yum Kung Flavour   5.00\n",
      "11               Yokohama Tonkotsu Shoyu   5.00\n",
      "12    Mr. Bibim Stir-Fried Kimchi Flavor   4.25\n",
      "13          Deka Buto Kimchi Pork Flavor   4.50\n",
      "...                                  ...    ...\n",
      "2535                      Mi Goreng Sate   5.00\n",
      "2536                     Special Chicken   4.25\n",
      "2552                        Chikin Ramen   5.00\n",
      "2557            Top Ramen Creamy Chicken   4.50\n",
      "2567                           Chow Mein   5.00\n",
      "\n",
      "[734 rows x 2 columns]\n"
     ]
    }
   ],
   "source": [
    "# mencari data stars yang lebih dari 4\n",
    "ramen_rating_tinggi = df[df['Stars'] > 4]\n",
    "\n",
    "# Tampilkan informasi variety yang memiliki Stars tinggi\n",
    "print(ramen_rating_tinggi[['Variety', 'Stars']])"
   ]
  },
  {
   "cell_type": "markdown",
   "metadata": {},
   "source": [
    "Dapat di lihat dari data di atas, terdapat banyak sekali produk yang memiliki rating lebih dari 5"
   ]
  },
  {
   "cell_type": "markdown",
   "metadata": {},
   "source": [
    "### Penjabaran 5"
   ]
  },
  {
   "cell_type": "markdown",
   "metadata": {},
   "source": [
    "Mencari data variasi mie instant berdasarkan negara produsen dan rating"
   ]
  },
  {
   "cell_type": "code",
   "execution_count": 29,
   "metadata": {},
   "outputs": [
    {
     "data": {
      "image/png": "[encoded data removed]",
      "text/plain": [
       "<Figure size 2000x1600 with 1 Axes>"
      ]
     },
     "metadata": {},
     "output_type": "display_data"
    }
   ],
   "source": [
    "# Filter data dengan rating lebih dari 4\n",
    "df_filtered = df_clean[df_clean['Stars'] > 4]\n",
    "\n",
    "# mengurutkan data berdasarkan negara dan rating\n",
    "df_sorted = df_filtered.sort_values(by=['Country', 'Stars'], ascending=[True, False])\n",
    "\n",
    "df_top10 = df_sorted.head(10)\n",
    "\n",
    "# Buat figure dengan ukuran 20x16inch\n",
    "plt.subplots(figsize=(20, 16))\n",
    "\n",
    "# Buat bar chart\n",
    "sns.barplot(x='Country', y='Stars', data=df_sorted)\n",
    "\n",
    "# memberikan judul\n",
    "plt.title('Rata-rata Rating per Negara (Rating > 4)')\n",
    "\n",
    "# memberikan judul untuk sumbu x\n",
    "plt.xlabel('Negara')\n",
    "\n",
    "# memberikan judul untuk sumbu y\n",
    "plt.ylabel('Rata-rata Rating')\n",
    "plt.xticks(rotation=90)\n",
    "\n",
    "# ngasi jarak antar elemen\n",
    "plt.tight_layout(pad=4.0)\n",
    "\n",
    "plt.show()"
   ]
  },
  {
   "cell_type": "markdown",
   "metadata": {},
   "source": [
    "Berdasarkan data yang ada, dapat di ambil kesimpulan negara-negara yang memiliki rating besar <4 adalah:\n",
    "Australia, Brazil, Cambodia, Canada, China, Fiji, Germany, Hongkong, hungary, india, indonesia, japan, malaysia, mexico, myanmar, nepal, netherlands, philiphines, sarawak, singapore, south korea, taiwan, thailand, UK, USA, dan Vietnam"
   ]
  },
  {
   "cell_type": "markdown",
   "metadata": {},
   "source": [
    "### Penjabaran 6"
   ]
  },
  {
   "cell_type": "markdown",
   "metadata": {},
   "source": [
    "Saya ingin mengetahui apakah style berpengaruh kepada rating, saya akan melakukan chi squarred test untuk mencari jawaban ini dengan hipotesis:\n",
    "\n",
    "hipotesis0: ada keterkaitan antara metode packing dengan jumlah rating yang di berikan\n",
    "\n",
    "hipotesis1: tidak ada keterkaitan antara metode packing dengan jumlah rating yang di berikan\n",
    "\n"
   ]
  },
  {
   "cell_type": "code",
   "execution_count": 30,
   "metadata": {},
   "outputs": [
    {
     "data": {
      "text/html": [
       "<div>\n",
       "<style scoped>\n",
       "    .dataframe tbody tr th:only-of-type {\n",
       "        vertical-align: middle;\n",
       "    }\n",
       "\n",
       "    .dataframe tbody tr th {\n",
       "        vertical-align: top;\n",
       "    }\n",
       "\n",
       "    .dataframe thead th {\n",
       "        text-align: right;\n",
       "    }\n",
       "</style>\n",
       "<table border=\"1\" class=\"dataframe\">\n",
       "  <thead>\n",
       "    <tr style=\"text-align: right;\">\n",
       "      <th>Stars</th>\n",
       "      <th>0.000</th>\n",
       "      <th>0.100</th>\n",
       "      <th>0.250</th>\n",
       "      <th>0.500</th>\n",
       "      <th>0.750</th>\n",
       "      <th>0.900</th>\n",
       "      <th>1.000</th>\n",
       "      <th>1.100</th>\n",
       "      <th>1.250</th>\n",
       "      <th>1.500</th>\n",
       "      <th>...</th>\n",
       "      <th>3.700</th>\n",
       "      <th>3.750</th>\n",
       "      <th>3.800</th>\n",
       "      <th>4.000</th>\n",
       "      <th>4.125</th>\n",
       "      <th>4.250</th>\n",
       "      <th>4.300</th>\n",
       "      <th>4.500</th>\n",
       "      <th>4.750</th>\n",
       "      <th>5.000</th>\n",
       "    </tr>\n",
       "    <tr>\n",
       "      <th>Style</th>\n",
       "      <th></th>\n",
       "      <th></th>\n",
       "      <th></th>\n",
       "      <th></th>\n",
       "      <th></th>\n",
       "      <th></th>\n",
       "      <th></th>\n",
       "      <th></th>\n",
       "      <th></th>\n",
       "      <th></th>\n",
       "      <th></th>\n",
       "      <th></th>\n",
       "      <th></th>\n",
       "      <th></th>\n",
       "      <th></th>\n",
       "      <th></th>\n",
       "      <th></th>\n",
       "      <th></th>\n",
       "      <th></th>\n",
       "      <th></th>\n",
       "      <th></th>\n",
       "    </tr>\n",
       "  </thead>\n",
       "  <tbody>\n",
       "    <tr>\n",
       "      <th>Bar</th>\n",
       "      <td>0</td>\n",
       "      <td>0</td>\n",
       "      <td>0</td>\n",
       "      <td>0</td>\n",
       "      <td>0</td>\n",
       "      <td>0</td>\n",
       "      <td>0</td>\n",
       "      <td>0</td>\n",
       "      <td>0</td>\n",
       "      <td>0</td>\n",
       "      <td>...</td>\n",
       "      <td>0</td>\n",
       "      <td>0</td>\n",
       "      <td>0</td>\n",
       "      <td>0</td>\n",
       "      <td>0</td>\n",
       "      <td>0</td>\n",
       "      <td>0</td>\n",
       "      <td>0</td>\n",
       "      <td>0</td>\n",
       "      <td>1</td>\n",
       "    </tr>\n",
       "    <tr>\n",
       "      <th>Bowl</th>\n",
       "      <td>7</td>\n",
       "      <td>0</td>\n",
       "      <td>2</td>\n",
       "      <td>4</td>\n",
       "      <td>0</td>\n",
       "      <td>0</td>\n",
       "      <td>2</td>\n",
       "      <td>0</td>\n",
       "      <td>7</td>\n",
       "      <td>4</td>\n",
       "      <td>...</td>\n",
       "      <td>0</td>\n",
       "      <td>57</td>\n",
       "      <td>1</td>\n",
       "      <td>65</td>\n",
       "      <td>1</td>\n",
       "      <td>35</td>\n",
       "      <td>1</td>\n",
       "      <td>32</td>\n",
       "      <td>19</td>\n",
       "      <td>71</td>\n",
       "    </tr>\n",
       "    <tr>\n",
       "      <th>Box</th>\n",
       "      <td>0</td>\n",
       "      <td>0</td>\n",
       "      <td>0</td>\n",
       "      <td>0</td>\n",
       "      <td>0</td>\n",
       "      <td>0</td>\n",
       "      <td>0</td>\n",
       "      <td>0</td>\n",
       "      <td>0</td>\n",
       "      <td>1</td>\n",
       "      <td>...</td>\n",
       "      <td>0</td>\n",
       "      <td>0</td>\n",
       "      <td>0</td>\n",
       "      <td>0</td>\n",
       "      <td>0</td>\n",
       "      <td>1</td>\n",
       "      <td>0</td>\n",
       "      <td>0</td>\n",
       "      <td>0</td>\n",
       "      <td>4</td>\n",
       "    </tr>\n",
       "    <tr>\n",
       "      <th>Can</th>\n",
       "      <td>0</td>\n",
       "      <td>0</td>\n",
       "      <td>0</td>\n",
       "      <td>0</td>\n",
       "      <td>0</td>\n",
       "      <td>0</td>\n",
       "      <td>0</td>\n",
       "      <td>0</td>\n",
       "      <td>0</td>\n",
       "      <td>0</td>\n",
       "      <td>...</td>\n",
       "      <td>0</td>\n",
       "      <td>0</td>\n",
       "      <td>0</td>\n",
       "      <td>0</td>\n",
       "      <td>0</td>\n",
       "      <td>0</td>\n",
       "      <td>0</td>\n",
       "      <td>0</td>\n",
       "      <td>0</td>\n",
       "      <td>0</td>\n",
       "    </tr>\n",
       "    <tr>\n",
       "      <th>Cup</th>\n",
       "      <td>6</td>\n",
       "      <td>0</td>\n",
       "      <td>3</td>\n",
       "      <td>4</td>\n",
       "      <td>0</td>\n",
       "      <td>0</td>\n",
       "      <td>3</td>\n",
       "      <td>0</td>\n",
       "      <td>2</td>\n",
       "      <td>8</td>\n",
       "      <td>...</td>\n",
       "      <td>0</td>\n",
       "      <td>59</td>\n",
       "      <td>1</td>\n",
       "      <td>66</td>\n",
       "      <td>0</td>\n",
       "      <td>16</td>\n",
       "      <td>2</td>\n",
       "      <td>10</td>\n",
       "      <td>6</td>\n",
       "      <td>58</td>\n",
       "    </tr>\n",
       "    <tr>\n",
       "      <th>Pack</th>\n",
       "      <td>15</td>\n",
       "      <td>1</td>\n",
       "      <td>5</td>\n",
       "      <td>5</td>\n",
       "      <td>1</td>\n",
       "      <td>1</td>\n",
       "      <td>19</td>\n",
       "      <td>2</td>\n",
       "      <td>1</td>\n",
       "      <td>21</td>\n",
       "      <td>...</td>\n",
       "      <td>1</td>\n",
       "      <td>212</td>\n",
       "      <td>1</td>\n",
       "      <td>245</td>\n",
       "      <td>0</td>\n",
       "      <td>85</td>\n",
       "      <td>1</td>\n",
       "      <td>87</td>\n",
       "      <td>36</td>\n",
       "      <td>239</td>\n",
       "    </tr>\n",
       "    <tr>\n",
       "      <th>Tray</th>\n",
       "      <td>1</td>\n",
       "      <td>0</td>\n",
       "      <td>1</td>\n",
       "      <td>1</td>\n",
       "      <td>0</td>\n",
       "      <td>0</td>\n",
       "      <td>2</td>\n",
       "      <td>0</td>\n",
       "      <td>0</td>\n",
       "      <td>3</td>\n",
       "      <td>...</td>\n",
       "      <td>0</td>\n",
       "      <td>21</td>\n",
       "      <td>0</td>\n",
       "      <td>17</td>\n",
       "      <td>1</td>\n",
       "      <td>6</td>\n",
       "      <td>0</td>\n",
       "      <td>6</td>\n",
       "      <td>3</td>\n",
       "      <td>13</td>\n",
       "    </tr>\n",
       "  </tbody>\n",
       "</table>\n",
       "<p>7 rows × 42 columns</p>\n",
       "</div>"
      ],
      "text/plain": [
       "Stars  0.000  0.100  0.250  0.500  0.750  0.900  1.000  1.100  1.250  1.500  \\\n",
       "Style                                                                         \n",
       "Bar        0      0      0      0      0      0      0      0      0      0   \n",
       "Bowl       7      0      2      4      0      0      2      0      7      4   \n",
       "Box        0      0      0      0      0      0      0      0      0      1   \n",
       "Can        0      0      0      0      0      0      0      0      0      0   \n",
       "Cup        6      0      3      4      0      0      3      0      2      8   \n",
       "Pack      15      1      5      5      1      1     19      2      1     21   \n",
       "Tray       1      0      1      1      0      0      2      0      0      3   \n",
       "\n",
       "Stars  ...  3.700  3.750  3.800  4.000  4.125  4.250  4.300  4.500  4.750  \\\n",
       "Style  ...                                                                  \n",
       "Bar    ...      0      0      0      0      0      0      0      0      0   \n",
       "Bowl   ...      0     57      1     65      1     35      1     32     19   \n",
       "Box    ...      0      0      0      0      0      1      0      0      0   \n",
       "Can    ...      0      0      0      0      0      0      0      0      0   \n",
       "Cup    ...      0     59      1     66      0     16      2     10      6   \n",
       "Pack   ...      1    212      1    245      0     85      1     87     36   \n",
       "Tray   ...      0     21      0     17      1      6      0      6      3   \n",
       "\n",
       "Stars  5.000  \n",
       "Style         \n",
       "Bar        1  \n",
       "Bowl      71  \n",
       "Box        4  \n",
       "Can        0  \n",
       "Cup       58  \n",
       "Pack     239  \n",
       "Tray      13  \n",
       "\n",
       "[7 rows x 42 columns]"
      ]
     },
     "execution_count": 30,
     "metadata": {},
     "output_type": "execute_result"
    }
   ],
   "source": [
    "contingency_table = pd.crosstab(df_clean['Style'],df_clean['Stars'])\n",
    "contingency_table"
   ]
  },
  {
   "cell_type": "code",
   "execution_count": 31,
   "metadata": {},
   "outputs": [
    {
     "name": "stdout",
     "output_type": "stream",
     "text": [
      "P-value: 0.9980520243745714\n"
     ]
    }
   ],
   "source": [
    "res = stats.chi2_contingency(contingency_table)\n",
    "print(\"P-value:\",res.pvalue)"
   ]
  },
  {
   "cell_type": "markdown",
   "metadata": {},
   "source": [
    "critical value: 0.05\n",
    "\n",
    "P-value: 0.9 lebih besar dari critical value\n",
    "\n",
    "maka dapat di simpulkan bahwa \n",
    "\n",
    "Hipotesis0 di tolak karena kurangnya bukti dan hipotesis 1 diterima dan ini menandakan bahwa:\n",
    "\n",
    "Adanya keterkaitan di antara pemberian metode packing dan pemberian rating"
   ]
  },
  {
   "cell_type": "markdown",
   "metadata": {},
   "source": [
    "## Kesimpulan "
   ]
  },
  {
   "cell_type": "markdown",
   "metadata": {},
   "source": [
    "Pada data di atas, di tampilkan TOP 10 total produk dari negara yang memproduksi mie instant. Terlihat bahwa __Japan__ merupakan negara yang paling banyak memproduksi Mie instant sebanyak 352 produk, disusul oleh __USA__ dengan 323 produk dan __South Korea__ sebanyak 309 produk, sedangkan __Indonesia__ berada di urutan ke 9 dalam data ini dengan hanya 126 produk.\n",
    "\n",
    "Singkatnya, indonesia dengan negara yang jauh lebih besar dari jepang dan korea selatan dan juga sesama negara asean yaitu thailand dan malaysia masih 'kekurangan' dalam segi variasi mie instant\n",
    "Untuk membuat produk mie instant baru:\n",
    "1. kita dapat mengambil rasa dari negara-negara produsen tersebut karena di buktikan dengan banyaknya produk yang mereka produksi\n",
    "2. Namun jika dilihat dari rating, negara negara yang memiliki rating tinggi adalah Australia, Brazil, Cambodia, Canada, China, Fiji, Germany, Hongkong, hungary, india, indonesia, japan, malaysia, mexico, myanmar, nepal, netherlands, philiphines, sarawak, singapore, south korea, taiwan, thailand, UK, USA, dan Vietnam\n",
    "3. Maka bila kita akan membuat suatu produk mie instant baru, kita dapat mengsortir data data dari negara tersebut dan mencari keyword yang akan di produksi, dengan contoh kita akan membuat produk baru yang bernama green curry, pada kolom negara dan mencari rating tertinggi dengan keyword itu. \n",
    "4. Kita dapat memilih packaging \"pack\" dan \"bowl\" untuk produk baru kita, karena dua type packaging itulah yang terbanyak dan memilkiki rating tinggi pula.\n",
    "5. Dalam 3 bulan pertama, kita akan melakukan Research and development untuk produk mie mengenai rasa yang di sukai oleh masyarakat.\n"
   ]
  }
 ],
 "metadata": {
  "kernelspec": {
   "display_name": "base",
   "language": "python",
   "name": "python3"
  },
  "language_info": {
   "codemirror_mode": {
    "name": "ipython",
    "version": 3
   },
   "file_extension": ".py",
   "mimetype": "text/x-python",
   "name": "python",
   "nbconvert_exporter": "python",
   "pygments_lexer": "ipython3",
   "version": "3.12.3"
  }
 },
 "nbformat": 4,
 "nbformat_minor": 2
}
